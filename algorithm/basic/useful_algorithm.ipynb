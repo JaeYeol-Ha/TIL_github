{
    "cells": [
        {
            "cell_type": "markdown",
            "source": [
                "## 각 자리 숫자의 합 구하기(리스트 이용)\r\n"
            ],
            "metadata": {}
        },
        {
            "cell_type": "code",
            "execution_count": 5,
            "source": [
                "num = 643\r\n",
                "sum = 0\r\n",
                "# list(str(num)) = ['6','4','3']\r\n",
                "for c in list(str(num)):\r\n",
                "    sum += int(c)\r\n",
                "sum"
            ],
            "outputs": [
                {
                    "output_type": "execute_result",
                    "data": {
                        "text/plain": [
                            "13"
                        ]
                    },
                    "metadata": {},
                    "execution_count": 5
                }
            ],
            "metadata": {}
        },
        {
            "cell_type": "markdown",
            "source": [
                "## 진법 변환 꿀tip"
            ],
            "metadata": {}
        },
        {
            "cell_type": "code",
            "execution_count": 10,
            "source": [
                "divmod(13,2)  # 13을 2로 나눈 몫은 6, 나머지는 1"
            ],
            "outputs": [
                {
                    "output_type": "execute_result",
                    "data": {
                        "text/plain": [
                            "(6, 1)"
                        ]
                    },
                    "metadata": {},
                    "execution_count": 10
                }
            ],
            "metadata": {}
        },
        {
            "cell_type": "markdown",
            "source": [
                "## n진수 → 10진수"
            ],
            "metadata": {}
        },
        {
            "cell_type": "code",
            "execution_count": 12,
            "source": [
                "print(int('101',2))\r\n",
                "print(int('202',3))\r\n",
                "print(int('ACF',16))"
            ],
            "outputs": [
                {
                    "output_type": "stream",
                    "name": "stdout",
                    "text": [
                        "5\n",
                        "20\n",
                        "2767\n"
                    ]
                }
            ],
            "metadata": {}
        },
        {
            "cell_type": "markdown",
            "source": [
                "## 10진수 → 2, 8, 16진수"
            ],
            "metadata": {}
        },
        {
            "cell_type": "code",
            "execution_count": 13,
            "source": [
                "print(bin(11))\r\n",
                "print(oct(11))\r\n",
                "print(hex(11))"
            ],
            "outputs": [
                {
                    "output_type": "stream",
                    "name": "stdout",
                    "text": [
                        "0b1011\n",
                        "0o13\n",
                        "0xb\n"
                    ]
                }
            ],
            "metadata": {}
        },
        {
            "cell_type": "markdown",
            "source": [
                "## 10진수 → n진수"
            ],
            "metadata": {}
        },
        {
            "cell_type": "code",
            "execution_count": 15,
            "source": [
                "def base(n,q): # 10진수 n → q진수로 변환\r\n",
                "    rev_base = ''\r\n",
                "    while n>0:\r\n",
                "        n,mod = divmod(n,q) # 몫,나머지\r\n",
                "        rev_base += str(mod)\r\n",
                "    return rev_base[::-1]\r\n",
                "    # 역순인 진수를 뒤집어서 원래 변환하고자 하는 base를 출력\r\n",
                "print(base(15,3))\r\n",
                "# 15(3진수) => 1*(3^2) + 2*(3^1) + 0*(3^0) "
            ],
            "outputs": [
                {
                    "output_type": "stream",
                    "name": "stdout",
                    "text": [
                        "120\n"
                    ]
                }
            ],
            "metadata": {}
        },
        {
            "cell_type": "markdown",
            "source": [
                "## n진수 → n진수\r\n",
                " - n진수를 10진수로 변경하고 다시 n진수로 변경\r\n"
            ],
            "metadata": {}
        },
        {
            "cell_type": "code",
            "execution_count": 17,
            "source": [
                "print(base(int('c',16),4)) # 16진수인 C를 4진수로 바꾸는것\r\n",
                "print(base(int('4',6),3))  # 6진수인 4를 3진수로 바꾸는것\r\n",
                "print(base(int('21',3),7)) # 3진수인 21을 7진수로 바꾸는것\r\n",
                "print(base(int('15',9),5)) # 9진수인 15를 5진수로 바꾸는것"
            ],
            "outputs": [
                {
                    "output_type": "stream",
                    "name": "stdout",
                    "text": [
                        "30\n",
                        "11\n",
                        "10\n",
                        "24\n"
                    ]
                }
            ],
            "metadata": {}
        },
        {
            "cell_type": "markdown",
            "source": [
                "# 힙(heapq)"
            ],
            "metadata": {}
        },
        {
            "cell_type": "code",
            "execution_count": 8,
            "source": [
                "import heapq\r\n",
                "\r\n",
                "# 최소힙\r\n",
                "result = []\r\n",
                "heapq.heappush(result, 1)\r\n",
                "heapq.heappush(result, 5)\r\n",
                "heapq.heappush(result, 2)\r\n",
                "heapq.heappush(result, 4)\r\n",
                "heapq.heappush(result, 3)\r\n",
                "print(result)\r\n"
            ],
            "outputs": [
                {
                    "output_type": "stream",
                    "name": "stdout",
                    "text": [
                        "[1, 3, 2, 5, 4]\n"
                    ]
                }
            ],
            "metadata": {}
        },
        {
            "cell_type": "code",
            "execution_count": 10,
            "source": [
                "# 튜플이용한 힙정렬 예시\r\n",
                "h = []\r\n",
                "heapq.heappush(h, (3, \"Go to home\"))\r\n",
                "heapq.heappush(h, (10, \"Do not study\"))\r\n",
                "heapq.heappush(h, (1, \"Enjoy!\"))\r\n",
                "heapq.heappush(h, (4, \"Eat!\"))\r\n",
                "heapq.heappush(h, (7, \"Pray!\"))\r\n",
                "first = heapq.heappop(h)\r\n",
                "second = heapq.heappop(h)\r\n",
                "third = heapq.heappop(h)\r\n",
                "print(\"first:\", first)\r\n",
                "print(\"second:\", second)\r\n",
                "print(\"third:\", third)"
            ],
            "outputs": [
                {
                    "output_type": "stream",
                    "name": "stdout",
                    "text": [
                        "first: (1, 'Enjoy!')\n",
                        "second: (3, 'Go to home')\n",
                        "third: (4, 'Eat!')\n"
                    ]
                }
            ],
            "metadata": {}
        },
        {
            "cell_type": "code",
            "execution_count": 12,
            "source": [
                "h = [(3, \"Go to home\"), (10, \"Do not study\"), (1, \"Enjoy!\"), (4, \"Eat!\"), (7, \"Pray!\")]\r\n",
                "heapq.heapify(h)\r\n",
                "print(h)"
            ],
            "outputs": [
                {
                    "output_type": "stream",
                    "name": "stdout",
                    "text": [
                        "[(1, 'Enjoy!'), (4, 'Eat!'), (3, 'Go to home'), (10, 'Do not study'), (7, 'Pray!')]\n"
                    ]
                }
            ],
            "metadata": {}
        },
        {
            "cell_type": "markdown",
            "source": [
                "# 최대힙 구하기"
            ],
            "metadata": {}
        },
        {
            "cell_type": "code",
            "execution_count": 27,
            "source": [
                "heap_items = [1,3,5,7,9]\r\n",
                "\r\n",
                "# 최대힙 리스트 만듦\r\n",
                "max_heap = []\r\n",
                "for item in heap_items:\r\n",
                "  heapq.heappush(max_heap, (-item, item))\r\n",
                "print(max_heap)\r\n",
                "\r\n",
                "# 최대힙 값 불러오기\r\n",
                "for _ in range(len(max_heap)):\r\n",
                "    max_item = heapq.heappop(max_heap)[1]\r\n",
                "    print(max_item, end = \" \")"
            ],
            "outputs": [
                {
                    "output_type": "stream",
                    "name": "stdout",
                    "text": [
                        "[(-9, 9), (-7, 7), (-3, 3), (-1, 1), (-5, 5)]\n",
                        "9 7 5 3 1 "
                    ]
                }
            ],
            "metadata": {}
        },
        {
            "cell_type": "markdown",
            "source": [
                "# permutations (순열)"
            ],
            "metadata": {}
        },
        {
            "cell_type": "code",
            "execution_count": 31,
            "source": [
                "# 예시) 1과 7 로 만들 수 있는 모든 수\r\n",
                "from itertools import permutations\r\n",
                "\r\n",
                "numbers = [1,7]\r\n",
                "for i in range(1,len(numbers)+1):\r\n",
                "    arr = list(permutations(numbers,i)) # i=1 : [(1,), (7,)], i=2 : [(1, 7), (7, 1)]\r\n",
                "    for j in range(len(arr)):\r\n",
                "        num = int(''.join(map(str,arr[j])))\r\n",
                "        print(num, end = \" \")"
            ],
            "outputs": [
                {
                    "output_type": "stream",
                    "name": "stdout",
                    "text": [
                        "1 7 17 71 "
                    ]
                }
            ],
            "metadata": {}
        },
        {
            "cell_type": "markdown",
            "source": [
                "# 1. 순열(permutations)\r\n",
                "\r\n",
                "- 중복을 허용하지 않는다.\r\n",
                "- 순서에 의미가 있다 (= 같은 값이 뽑히더라도 순서가 다르면 다른 경우의 수로 판단)"
            ],
            "metadata": {}
        },
        {
            "cell_type": "code",
            "execution_count": 33,
            "source": [
                "from itertools import permutations\r\n",
                "\r\n",
                "# permutations(반복 가능한 객체, n) // n=몇개를 뽑을 것인지\r\n",
                "print(list(permutations([1,2,3,4], 2)))\r\n",
                "print(list(permutations([1,2,3,1], 2)))\r\n"
            ],
            "outputs": [
                {
                    "output_type": "stream",
                    "name": "stdout",
                    "text": [
                        "[(1, 2), (1, 3), (1, 4), (2, 1), (2, 3), (2, 4), (3, 1), (3, 2), (3, 4), (4, 1), (4, 2), (4, 3)]\n",
                        "[(1, 2), (1, 3), (1, 1), (2, 1), (2, 3), (2, 1), (3, 1), (3, 2), (3, 1), (1, 1), (1, 2), (1, 3)]\n"
                    ]
                }
            ],
            "metadata": {}
        },
        {
            "cell_type": "markdown",
            "source": [
                "# 2. 중복 순열(product)\r\n",
                "\r\n",
                "- 중복을 허용하는 순열"
            ],
            "metadata": {}
        },
        {
            "cell_type": "code",
            "execution_count": 34,
            "source": [
                "# product(반복 가능한 객체, repeat=num)\r\n",
                "from itertools import product\r\n",
                "\r\n",
                "print(list(product([1,2,3,4], repeat=2)))\r\n",
                "print(list(product([1,2,3,1], repeat=2)))"
            ],
            "outputs": [
                {
                    "output_type": "stream",
                    "name": "stdout",
                    "text": [
                        "[(1, 1), (1, 2), (1, 3), (1, 4), (2, 1), (2, 2), (2, 3), (2, 4), (3, 1), (3, 2), (3, 3), (3, 4), (4, 1), (4, 2), (4, 3), (4, 4)]\n",
                        "[(1, 1), (1, 2), (1, 3), (1, 1), (2, 1), (2, 2), (2, 3), (2, 1), (3, 1), (3, 2), (3, 3), (3, 1), (1, 1), (1, 2), (1, 3), (1, 1)]\n"
                    ]
                }
            ],
            "metadata": {}
        },
        {
            "cell_type": "markdown",
            "source": [
                "# 3. 조합(combinations)\r\n",
                "\r\n",
                "- 중복을 허용하지 않는다.\r\n",
                "- 순서에 의미가 없다 (= 같은 값이 뽑히면 같은 경우의 수로 판단)"
            ],
            "metadata": {}
        },
        {
            "cell_type": "code",
            "execution_count": 39,
            "source": [
                "#combinations(반복 가능한 객체, n) // n=몇개를 뽑을 것인지\r\n",
                "from itertools import combinations\r\n",
                "\r\n",
                "print(list(combinations([1,2,3,4], 2)))\r\n",
                "print(list(combinations([1,2,3,1], 2)))\r\n"
            ],
            "outputs": [
                {
                    "output_type": "stream",
                    "name": "stdout",
                    "text": [
                        "[(1, 2), (1, 3), (1, 4), (2, 3), (2, 4), (3, 4)]\n",
                        "[(1, 2), (1, 3), (1, 1), (2, 3), (2, 1), (3, 1)]\n"
                    ]
                }
            ],
            "metadata": {}
        },
        {
            "cell_type": "markdown",
            "source": [
                "# 4. 중복 조합(combinations_with_replacement)\r\n",
                "\r\n",
                "- 중복을 허용하는 조합"
            ],
            "metadata": {}
        },
        {
            "cell_type": "code",
            "execution_count": 40,
            "source": [
                "#combinations_with_replacement(반복 가능한 객체, n) // n=몇개를 뽑을 것인지\r\n",
                "from itertools import combinations_with_replacement\r\n",
                "\r\n",
                "print(list(combinations_with_replacement([1,2,3,4], 2)))\r\n",
                "print(list(combinations_with_replacement([1,2,3,1], 2)))"
            ],
            "outputs": [
                {
                    "output_type": "stream",
                    "name": "stdout",
                    "text": [
                        "[(1, 1), (1, 2), (1, 3), (1, 4), (2, 2), (2, 3), (2, 4), (3, 3), (3, 4), (4, 4)]\n",
                        "[(1, 1), (1, 2), (1, 3), (1, 1), (2, 2), (2, 3), (2, 1), (3, 3), (3, 1), (1, 1)]\n"
                    ]
                }
            ],
            "metadata": {}
        },
        {
            "cell_type": "markdown",
            "source": [
                "# BFS, DFS"
            ],
            "metadata": {}
        },
        {
            "cell_type": "code",
            "execution_count": 32,
            "source": [
                "# graph_list : dict \r\n",
                "# set([3,4]) = {3,4}\r\n",
                "graph_list = {1: set([3, 4]),\r\n",
                "              2: set([3, 4, 5]),\r\n",
                "              3: set([1, 5]),\r\n",
                "              4: set([1]),\r\n",
                "              5: set([2, 6]),\r\n",
                "              6: set([3, 5])}\r\n",
                "root_node = 1"
            ],
            "outputs": [],
            "metadata": {}
        },
        {
            "cell_type": "code",
            "execution_count": 30,
            "source": [
                "from collections import deque\r\n",
                "def BFS_with_adj_list(graph,root):\r\n",
                "    visited = []\r\n",
                "    q = deque([root])\r\n",
                "    while q:\r\n",
                "        n = q.popleft()\r\n",
                "        if n not in visited:\r\n",
                "            visited.append(n)\r\n",
                "            # q: list인데 set 더하기가 가능\r\n",
                "            q += graph[n] - set(visited)\r\n",
                "    return visited\r\n",
                "\r\n",
                "print(BFS_with_adj_list(graph_list,root_node))"
            ],
            "outputs": [
                {
                    "output_type": "stream",
                    "name": "stdout",
                    "text": [
                        "[1, 3, 4, 5, 2, 6]\n"
                    ]
                }
            ],
            "metadata": {}
        },
        {
            "cell_type": "code",
            "execution_count": 40,
            "source": [
                "def DFS_with_adj_list(graph,root):\r\n",
                "    visited = []\r\n",
                "    q = deque([root])\r\n",
                "    while q :\r\n",
                "        n = q.pop()\r\n",
                "        if n not in visited:\r\n",
                "            visited.append(n)\r\n",
                "            q += graph[n] - set(visited)\r\n",
                "    return visited\r\n",
                "print(DFS_with_adj_list(graph_list,root_node))\r\n"
            ],
            "outputs": [
                {
                    "output_type": "stream",
                    "name": "stdout",
                    "text": [
                        "[1, 4, 3, 5, 6, 2]\n"
                    ]
                }
            ],
            "metadata": {}
        },
        {
            "cell_type": "code",
            "execution_count": null,
            "source": [],
            "outputs": [],
            "metadata": {}
        }
    ],
    "metadata": {
        "orig_nbformat": 4,
        "language_info": {
            "name": "python",
            "version": "3.9.0",
            "mimetype": "text/x-python",
            "codemirror_mode": {
                "name": "ipython",
                "version": 3
            },
            "pygments_lexer": "ipython3",
            "nbconvert_exporter": "python",
            "file_extension": ".py"
        },
        "kernelspec": {
            "name": "python3",
            "display_name": "Python 3.9.0 64-bit"
        },
        "interpreter": {
            "hash": "74c171b0dae43ebfb69efb151f805309d9847f071ceff5c363f2f696ccba9211"
        }
    },
    "nbformat": 4,
    "nbformat_minor": 2
}