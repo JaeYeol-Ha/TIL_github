{
 "cells": [
  {
   "cell_type": "markdown",
   "metadata": {},
   "source": [
    "# 그래프 종류\n",
    "\n",
    "1. 무향 그래프(Undirected Graph): 정점 간 방향성이 없는 그래프입니다. 예를 들어 두 도시 간 도로 관계를 나타낼 때 사용할 수 있습니다.\n",
    "2. 방향 그래프(Directed Graph): 정점 간 방향성이 있는 그래프입니다. 예를 들어 웹페이지 간 링크 관계를 나타낼 때 사용할 수 있습니다.\n",
    "3. 가중치 그래프(Weighted Graph): 정점 간 가중치(weight)가 있는 그래프입니다. 예를 들어 도시 간 거리나 비용을 나타낼 때 사용할 수 있습니다."
   ]
  },
  {
   "cell_type": "markdown",
   "metadata": {},
   "source": [
    "## 그래프 표현\n",
    "Python에서는 다음과 같은 방법으로 그래프를 표현할 수 있습니다:\n",
    "\n",
    "1. 인접 행렬(Adjacency Matrix): 2차원 리스트를 사용하여 그래프의 연결 관계를 표현합니다."
   ]
  },
  {
   "cell_type": "code",
   "execution_count": 2,
   "metadata": {},
   "outputs": [],
   "source": [
    "무향그래프 = [[0, 1, 0, 1],\n",
    "         [1, 0, 1, 0],\n",
    "         [0, 1, 0, 1],\n",
    "         [1, 0, 1, 0]]\n",
    "\n",
    "방향그래프 = [[0, 1, 0, 0],\n",
    "         [0, 0, 1, 0],\n",
    "         [0, 0, 0, 1],\n",
    "         [1, 0, 0, 0]]\n",
    "\n",
    "가중치그래프 = [[0, 5, 0, 10],\n",
    "         [5, 0, 3, 0],\n",
    "         [0, 3, 0, 1],\n",
    "         [10, 0, 1, 0]]"
   ]
  },
  {
   "cell_type": "markdown",
   "metadata": {},
   "source": [
    "2. 인접 리스트(Adjacency List): 딕셔너리를 사용하여 각 정점의 인접 정점 정보를 저장합니다.\n"
   ]
  },
  {
   "cell_type": "code",
   "execution_count": 3,
   "metadata": {},
   "outputs": [],
   "source": [
    "무향인접리스트 = {\n",
    "    0: [1, 3],\n",
    "    1: [0, 2],\n",
    "    2: [1, 3],\n",
    "    3: [0, 2]\n",
    "}\n",
    "\n",
    "방향인접리스트 = {\n",
    "    0: [1],\n",
    "    1: [2],\n",
    "    2: [3],\n",
    "    3: [0]\n",
    "}\n",
    "\n",
    "가중치인접리스트 = {\n",
    "    0: [(1, 5), (3, 10)],\n",
    "    1: [(0, 5), (2, 3)],\n",
    "    2: [(1, 3), (3, 1)],\n",
    "    3: [(0, 10), (2, 1)]\n",
    "}"
   ]
  },
  {
   "cell_type": "markdown",
   "metadata": {},
   "source": [
    "문제 1: 무향 그래프의 DFS 탐색\n",
    "주어진 무향 그래프에서 DFS 알고리즘을 사용하여 모든 노드를 방문하는 프로그램을 작성하세요."
   ]
  },
  {
   "cell_type": "code",
   "execution_count": 4,
   "metadata": {},
   "outputs": [
    {
     "data": {
      "text/plain": [
       "[0, 1, 3, 4, 5, 2]"
      ]
     },
     "execution_count": 4,
     "metadata": {},
     "output_type": "execute_result"
    }
   ],
   "source": [
    "graph = [\n",
    "    [0, 1, 1, 0, 0, 0],\n",
    "    [1, 0, 0, 1, 1, 0],\n",
    "    [1, 0, 0, 0, 0, 1],\n",
    "    [0, 1, 0, 0, 0, 0],\n",
    "    [0, 1, 0, 0, 0, 1],\n",
    "    [0, 0, 1, 0, 1, 0]\n",
    "]\n",
    "\n",
    "# 인접행렬에서 DFS 찾기\n",
    "def dfs(graph, start=0, visit=None, result=None):\n",
    "    if visit is None:\n",
    "        visit = [False] * len(graph)\n",
    "    if result is None:\n",
    "        result = []\n",
    "    \n",
    "    visit[start] = True \n",
    "    result.append(start)\n",
    "    \n",
    "    for neighbor, connected in enumerate(graph[start]):\n",
    "        if connected and not visit[neighbor]:\n",
    "            dfs(graph,neighbor,visit,result)\n",
    "    return result\n",
    "\n",
    "dfs(graph)"
   ]
  },
  {
   "cell_type": "code",
   "execution_count": 5,
   "metadata": {},
   "outputs": [
    {
     "data": {
      "text/plain": [
       "[0, 1, 3, 4, 5, 2]"
      ]
     },
     "execution_count": 5,
     "metadata": {},
     "output_type": "execute_result"
    }
   ],
   "source": [
    "from collections import deque as dq\n",
    "\n",
    "def dfs(graph, start = 0):\n",
    "    stack = dq([start])\n",
    "    num_nodes = len(graph)\n",
    "    visited = [False] * num_nodes\n",
    "    visit = []\n",
    "    while stack:\n",
    "        node = stack.pop()\n",
    "        if not visited[node]:\n",
    "            visited[node] = True\n",
    "            visit.append(node)\n",
    "            for i in range(num_nodes -1, -1, -1):\n",
    "                if graph[node][i] == 1 and not visited[i]:\n",
    "                    stack.append(i)\n",
    "    return visit\n",
    "            \n",
    "dfs(graph)\n",
    "\n",
    "# 0=> 1, 2 => 0,3,4 => \n",
    " "
   ]
  },
  {
   "cell_type": "code",
   "execution_count": 6,
   "metadata": {},
   "outputs": [
    {
     "data": {
      "text/plain": [
       "[0, 1, 3, 4, 5, 2]"
      ]
     },
     "execution_count": 6,
     "metadata": {},
     "output_type": "execute_result"
    }
   ],
   "source": [
    "def dfs_matrix(graph, start = 0):\n",
    "    stack = dq([start])\n",
    "    num_nodes = len(graph)\n",
    "    visited = [False] * num_nodes\n",
    "    visit = []\n",
    "    while stack:\n",
    "        node = stack.pop()\n",
    "        if not visited[node]:\n",
    "            visited[node] = True\n",
    "            visit.append(node)\n",
    "            for i in range(num_nodes -1, -1, -1):\n",
    "                if graph[node][i] == 1 and not visited[i]:\n",
    "                    stack.append(i)\n",
    "    return visit \n",
    "\n",
    "\n",
    "dfs_matrix(graph)"
   ]
  },
  {
   "cell_type": "code",
   "execution_count": 7,
   "metadata": {},
   "outputs": [
    {
     "data": {
      "text/plain": [
       "[0, 1, 3, 4, 5, 2]"
      ]
     },
     "execution_count": 7,
     "metadata": {},
     "output_type": "execute_result"
    }
   ],
   "source": [
    "무향인접리스트 = {\n",
    "    0: [1, 2],\n",
    "    1: [0, 3, 4],\n",
    "    2: [0, 5],\n",
    "    3: [1],\n",
    "    4: [1, 5],\n",
    "    5: [2, 4],\n",
    "}\n",
    "\n",
    "def dfs_list(graph, start=0):\n",
    "    stack = dq([start])\n",
    "    num_nodes = len(graph)\n",
    "    visited = [False] * num_nodes \n",
    "    visit = []\n",
    "    while stack:\n",
    "        node = stack.pop()\n",
    "        if not visited[node]:\n",
    "            visited[node] = True\n",
    "            visit.append(node)\n",
    "            for other_node in list(reversed(graph[node])):\n",
    "                if not visited[other_node]:\n",
    "                    stack.append(other_node)\n",
    "    return visit\n",
    "                \n",
    "            \n",
    "        \n",
    "    \n",
    "dfs_list(무향인접리스트)"
   ]
  },
  {
   "cell_type": "code",
   "execution_count": 9,
   "metadata": {},
   "outputs": [
    {
     "data": {
      "text/plain": [
       "[0, 1, 2, 3, 4, 5]"
      ]
     },
     "execution_count": 9,
     "metadata": {},
     "output_type": "execute_result"
    }
   ],
   "source": [
    "def bfs_list(graph, start=0):\n",
    "    q = dq([start])\n",
    "    num_nodes = len(graph)\n",
    "    visited = [False] * num_nodes\n",
    "    visit = []\n",
    "    while q:\n",
    "        node = q.pop()\n",
    "        if not visited[node]:\n",
    "            visited[node] = True\n",
    "            visit.append(node)\n",
    "            for other_node in graph[node]:\n",
    "                if not visited[other_node]:\n",
    "                    q.appendleft(other_node)\n",
    "    return visit\n",
    "\n",
    "bfs_list(무향인접리스트)"
   ]
  },
  {
   "cell_type": "markdown",
   "metadata": {},
   "source": [
    "# 실전 문제\n",
    "\n",
    "[https://www.acmicpc.net/problem/1260]"
   ]
  },
  {
   "cell_type": "code",
   "execution_count": null,
   "metadata": {},
   "outputs": [],
   "source": [
    "n,m,v = input().split()\n",
    "# 인접 행렬 만들기\n",
    "matrix = dict()\n",
    "for i in range(m):\n",
    "    a, b = input().split()\n",
    "    matrix[a] = b\n",
    "    matrix[b] = a\n",
    "    \n",
    "print(matrix)"
   ]
  }
 ],
 "metadata": {
  "kernelspec": {
   "display_name": "base",
   "language": "python",
   "name": "python3"
  },
  "language_info": {
   "codemirror_mode": {
    "name": "ipython",
    "version": 3
   },
   "file_extension": ".py",
   "mimetype": "text/x-python",
   "name": "python",
   "nbconvert_exporter": "python",
   "pygments_lexer": "ipython3",
   "version": "3.11.7"
  }
 },
 "nbformat": 4,
 "nbformat_minor": 2
}
