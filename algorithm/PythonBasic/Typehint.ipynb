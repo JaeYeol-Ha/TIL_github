{
 "cells": [
  {
   "cell_type": "code",
   "execution_count": 7,
   "metadata": {},
   "outputs": [],
   "source": [
    "# 함수 타입 힌트\n",
    "def make_post(title: str, author_id: int = 0) -> str:\n",
    "    ...\n",
    "# 클래스 타입 힌트\n",
    "\n",
    "\n",
    "class A:\n",
    "    x: int  # int type\n",
    "    y: str  # str type\n",
    "    z: float  # float type\n",
    "\n",
    "    def __init__(self, x: int, y: str, z: float):\n",
    "        self.x = x\n",
    "        self.y = y\n",
    "        self.z = z\n",
    "\n",
    "\n",
    "# 변수 타입 힌트\n",
    "# 작성방법 => (변수명:타입 = 값)\n",
    "num: int = 34  # int type\n",
    "str: str = \"Hello types!\"  # str type\n",
    "a: A = A(num, str, 0.1)  # class \"Test\" type\n"
   ]
  }
 ],
 "metadata": {
  "kernelspec": {
   "display_name": "Python 3.10.5 64-bit",
   "language": "python",
   "name": "python3"
  },
  "language_info": {
   "codemirror_mode": {
    "name": "ipython",
    "version": 3
   },
   "file_extension": ".py",
   "mimetype": "text/x-python",
   "name": "python",
   "nbconvert_exporter": "python",
   "pygments_lexer": "ipython3",
   "version": "3.10.5"
  },
  "orig_nbformat": 4,
  "vscode": {
   "interpreter": {
    "hash": "028825f3e86f580b1221a53cf329af3fae269fd8633f98d400a2790fbe0640b6"
   }
  }
 },
 "nbformat": 4,
 "nbformat_minor": 2
}
