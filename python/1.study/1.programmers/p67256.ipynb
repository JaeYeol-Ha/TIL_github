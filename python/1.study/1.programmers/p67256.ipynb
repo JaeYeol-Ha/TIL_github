{
 "cells": [
  {
   "cell_type": "code",
   "execution_count": null,
   "source": [
    "n,\tcomputers,\tanswer = 3,\t[[1, 1, 0], [1, 1, 0], [0, 0, 1]],\t2\r\n",
    "from collections import deque\r\n",
    "def solution(n, computers):\r\n",
    "    answer = 0\r\n",
    "    visited = [False for i in range(n)]\r\n",
    "    for com in range(n):\r\n",
    "        if visited[com]  ==False:\r\n",
    "            DFS(n,computers,com,visited)\r\n",
    "            answer += 1\r\n",
    "    return answer\r\n",
    "\r\n",
    "def DFS(n, computers, com, visited):\r\n",
    "    visited[com] = True\r\n",
    "    for connect in range(n):\r\n",
    "        if connect != com and computers[com][connect] == 1:\r\n",
    "            if visited[connect] == False:\r\n",
    "                DFS(n,computers,connect,visited)\r\n",
    "                \r\n",
    "solution(n,computers)"
   ],
   "outputs": [],
   "metadata": {}
  }
 ],
 "metadata": {
  "orig_nbformat": 4,
  "language_info": {
   "name": "python",
   "version": "3.9.0",
   "mimetype": "text/x-python",
   "codemirror_mode": {
    "name": "ipython",
    "version": 3
   },
   "pygments_lexer": "ipython3",
   "nbconvert_exporter": "python",
   "file_extension": ".py"
  },
  "kernelspec": {
   "name": "python3",
   "display_name": "Python 3.9.0 64-bit"
  },
  "interpreter": {
   "hash": "74c171b0dae43ebfb69efb151f805309d9847f071ceff5c363f2f696ccba9211"
  }
 },
 "nbformat": 4,
 "nbformat_minor": 2
}