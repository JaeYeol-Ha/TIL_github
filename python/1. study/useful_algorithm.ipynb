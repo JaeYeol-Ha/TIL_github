{
    "cells": [
        {
            "cell_type": "markdown",
            "source": [
                "## 각 자리 숫자의 합 구하기(리스트 이용)\r\n"
            ],
            "metadata": {}
        },
        {
            "cell_type": "code",
            "execution_count": 5,
            "source": [
                "num = 643\r\n",
                "sum = 0\r\n",
                "# list(str(num)) = ['6','4','3']\r\n",
                "for c in list(str(num)):\r\n",
                "    sum += int(c)\r\n",
                "sum"
            ],
            "outputs": [
                {
                    "output_type": "execute_result",
                    "data": {
                        "text/plain": [
                            "13"
                        ]
                    },
                    "metadata": {},
                    "execution_count": 5
                }
            ],
            "metadata": {}
        },
        {
            "cell_type": "markdown",
            "source": [
                "## 진법 변환 꿀tip"
            ],
            "metadata": {}
        },
        {
            "cell_type": "code",
            "execution_count": 10,
            "source": [
                "divmod(13,2)  # 13을 2로 나눈 몫은 6, 나머지는 1"
            ],
            "outputs": [
                {
                    "output_type": "execute_result",
                    "data": {
                        "text/plain": [
                            "(6, 1)"
                        ]
                    },
                    "metadata": {},
                    "execution_count": 10
                }
            ],
            "metadata": {}
        },
        {
            "cell_type": "markdown",
            "source": [
                "## n진수 → 10진수"
            ],
            "metadata": {}
        },
        {
            "cell_type": "code",
            "execution_count": 12,
            "source": [
                "print(int('101',2))\r\n",
                "print(int('202',3))\r\n",
                "print(int('ACF',16))"
            ],
            "outputs": [
                {
                    "output_type": "stream",
                    "name": "stdout",
                    "text": [
                        "5\n",
                        "20\n",
                        "2767\n"
                    ]
                }
            ],
            "metadata": {}
        },
        {
            "cell_type": "markdown",
            "source": [
                "## 10진수 → 2, 8, 16진수"
            ],
            "metadata": {}
        },
        {
            "cell_type": "code",
            "execution_count": 13,
            "source": [
                "print(bin(11))\r\n",
                "print(oct(11))\r\n",
                "print(hex(11))"
            ],
            "outputs": [
                {
                    "output_type": "stream",
                    "name": "stdout",
                    "text": [
                        "0b1011\n",
                        "0o13\n",
                        "0xb\n"
                    ]
                }
            ],
            "metadata": {}
        },
        {
            "cell_type": "markdown",
            "source": [
                "## 10진수 → n진수"
            ],
            "metadata": {}
        },
        {
            "cell_type": "code",
            "execution_count": 15,
            "source": [
                "def base(n,q): # 10진수 n → q진수로 변환\r\n",
                "    rev_base = ''\r\n",
                "    while n>0:\r\n",
                "        n,mod = divmod(n,q) # 몫,나머지\r\n",
                "        rev_base += str(mod)\r\n",
                "    return rev_base[::-1]\r\n",
                "    # 역순인 진수를 뒤집어서 원래 변환하고자 하는 base를 출력\r\n",
                "print(base(15,3))\r\n",
                "# 15(3진수) => 1*(3^2) + 2*(3^1) + 0*(3^0) "
            ],
            "outputs": [
                {
                    "output_type": "stream",
                    "name": "stdout",
                    "text": [
                        "120\n"
                    ]
                }
            ],
            "metadata": {}
        },
        {
            "cell_type": "markdown",
            "source": [
                "## n진수 → n진수\r\n",
                " - n진수를 10진수로 변경하고 다시 n진수로 변경\r\n"
            ],
            "metadata": {}
        },
        {
            "cell_type": "code",
            "execution_count": 17,
            "source": [
                "print(base(int('c',16),4)) # 16진수인 C를 4진수로 바꾸는것\r\n",
                "print(base(int('4',6),3))  # 6진수인 4를 3진수로 바꾸는것\r\n",
                "print(base(int('21',3),7)) # 3진수인 21을 7진수로 바꾸는것\r\n",
                "print(base(int('15',9),5)) # 9진수인 15를 5진수로 바꾸는것"
            ],
            "outputs": [
                {
                    "output_type": "stream",
                    "name": "stdout",
                    "text": [
                        "30\n",
                        "11\n",
                        "10\n",
                        "24\n"
                    ]
                }
            ],
            "metadata": {}
        },
        {
            "cell_type": "markdown",
            "source": [],
            "metadata": {}
        }
    ],
    "metadata": {
        "orig_nbformat": 4,
        "language_info": {
            "name": "python",
            "version": "3.9.0",
            "mimetype": "text/x-python",
            "codemirror_mode": {
                "name": "ipython",
                "version": 3
            },
            "pygments_lexer": "ipython3",
            "nbconvert_exporter": "python",
            "file_extension": ".py"
        },
        "kernelspec": {
            "name": "python3",
            "display_name": "Python 3.9.0 64-bit"
        },
        "interpreter": {
            "hash": "74c171b0dae43ebfb69efb151f805309d9847f071ceff5c363f2f696ccba9211"
        }
    },
    "nbformat": 4,
    "nbformat_minor": 2
}