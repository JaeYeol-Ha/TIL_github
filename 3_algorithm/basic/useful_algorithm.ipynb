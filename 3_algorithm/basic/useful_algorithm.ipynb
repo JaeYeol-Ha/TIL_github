{
    "cells": [
        {
            "cell_type": "markdown",
            "metadata": {},
            "source": [
                "## 각 자리 숫자의 합 구하기(리스트 이용)\n"
            ]
        },
        {
            "cell_type": "code",
            "execution_count": 5,
            "metadata": {},
            "outputs": [
                {
                    "data": {
                        "text/plain": [
                            "13"
                        ]
                    },
                    "execution_count": 5,
                    "metadata": {},
                    "output_type": "execute_result"
                }
            ],
            "source": [
                "num = 643\n",
                "sum = 0\n",
                "# list(str(num)) = ['6','4','3']\n",
                "for c in list(str(num)):\n",
                "    sum += int(c)\n",
                "sum"
            ]
        },
        {
            "cell_type": "markdown",
            "metadata": {},
            "source": [
                "## 진법 변환 꿀tip"
            ]
        },
        {
            "cell_type": "code",
            "execution_count": 10,
            "metadata": {},
            "outputs": [
                {
                    "data": {
                        "text/plain": [
                            "(6, 1)"
                        ]
                    },
                    "execution_count": 10,
                    "metadata": {},
                    "output_type": "execute_result"
                }
            ],
            "source": [
                "divmod(13,2)  # 13을 2로 나눈 몫은 6, 나머지는 1"
            ]
        },
        {
            "cell_type": "markdown",
            "metadata": {},
            "source": [
                "## n진수 → 10진수"
            ]
        },
        {
            "cell_type": "code",
            "execution_count": 12,
            "metadata": {},
            "outputs": [
                {
                    "name": "stdout",
                    "output_type": "stream",
                    "text": [
                        "5\n",
                        "20\n",
                        "2767\n"
                    ]
                }
            ],
            "source": [
                "print(int('101',2))\n",
                "print(int('202',3))\n",
                "print(int('ACF',16))"
            ]
        },
        {
            "cell_type": "markdown",
            "metadata": {},
            "source": [
                "## 10진수 → 2, 8, 16진수"
            ]
        },
        {
            "cell_type": "code",
            "execution_count": 13,
            "metadata": {},
            "outputs": [
                {
                    "name": "stdout",
                    "output_type": "stream",
                    "text": [
                        "0b1011\n",
                        "0o13\n",
                        "0xb\n"
                    ]
                }
            ],
            "source": [
                "print(bin(11))\n",
                "print(oct(11))\n",
                "print(hex(11))"
            ]
        },
        {
            "cell_type": "markdown",
            "metadata": {},
            "source": [
                "## 10진수 → n진수"
            ]
        },
        {
            "cell_type": "code",
            "execution_count": 15,
            "metadata": {},
            "outputs": [
                {
                    "name": "stdout",
                    "output_type": "stream",
                    "text": [
                        "120\n"
                    ]
                }
            ],
            "source": [
                "def base(n,q): # 10진수 n → q진수로 변환\n",
                "    rev_base = ''\n",
                "    while n>0:\n",
                "        n,mod = divmod(n,q) # 몫,나머지\n",
                "        rev_base += str(mod)\n",
                "    return rev_base[::-1]\n",
                "    # 역순인 진수를 뒤집어서 원래 변환하고자 하는 base를 출력\n",
                "print(base(15,3))\n",
                "# 15(3진수) => 1*(3^2) + 2*(3^1) + 0*(3^0) "
            ]
        },
        {
            "cell_type": "markdown",
            "metadata": {},
            "source": [
                "## n진수 → n진수\n",
                " - n진수를 10진수로 변경하고 다시 n진수로 변경\n"
            ]
        },
        {
            "cell_type": "code",
            "execution_count": 17,
            "metadata": {},
            "outputs": [
                {
                    "name": "stdout",
                    "output_type": "stream",
                    "text": [
                        "30\n",
                        "11\n",
                        "10\n",
                        "24\n"
                    ]
                }
            ],
            "source": [
                "print(base(int('c',16),4)) # 16진수인 C를 4진수로 바꾸는것\n",
                "print(base(int('4',6),3))  # 6진수인 4를 3진수로 바꾸는것\n",
                "print(base(int('21',3),7)) # 3진수인 21을 7진수로 바꾸는것\n",
                "print(base(int('15',9),5)) # 9진수인 15를 5진수로 바꾸는것"
            ]
        },
        {
            "cell_type": "markdown",
            "metadata": {},
            "source": [
                "# 힙(heapq)"
            ]
        },
        {
            "cell_type": "code",
            "execution_count": 8,
            "metadata": {},
            "outputs": [
                {
                    "name": "stdout",
                    "output_type": "stream",
                    "text": [
                        "[1, 3, 2, 5, 4]\n"
                    ]
                }
            ],
            "source": [
                "import heapq\n",
                "\n",
                "# 최소힙\n",
                "result = []\n",
                "heapq.heappush(result, 1)\n",
                "heapq.heappush(result, 5)\n",
                "heapq.heappush(result, 2)\n",
                "heapq.heappush(result, 4)\n",
                "heapq.heappush(result, 3)\n",
                "print(result)\n"
            ]
        },
        {
            "cell_type": "code",
            "execution_count": 10,
            "metadata": {},
            "outputs": [
                {
                    "name": "stdout",
                    "output_type": "stream",
                    "text": [
                        "first: (1, 'Enjoy!')\n",
                        "second: (3, 'Go to home')\n",
                        "third: (4, 'Eat!')\n"
                    ]
                }
            ],
            "source": [
                "# 튜플이용한 힙정렬 예시\n",
                "h = []\n",
                "heapq.heappush(h, (3, \"Go to home\"))\n",
                "heapq.heappush(h, (10, \"Do not study\"))\n",
                "heapq.heappush(h, (1, \"Enjoy!\"))\n",
                "heapq.heappush(h, (4, \"Eat!\"))\n",
                "heapq.heappush(h, (7, \"Pray!\"))\n",
                "first = heapq.heappop(h)\n",
                "second = heapq.heappop(h)\n",
                "third = heapq.heappop(h)\n",
                "print(\"first:\", first)\n",
                "print(\"second:\", second)\n",
                "print(\"third:\", third)"
            ]
        },
        {
            "cell_type": "code",
            "execution_count": 12,
            "metadata": {},
            "outputs": [
                {
                    "name": "stdout",
                    "output_type": "stream",
                    "text": [
                        "[(1, 'Enjoy!'), (4, 'Eat!'), (3, 'Go to home'), (10, 'Do not study'), (7, 'Pray!')]\n"
                    ]
                }
            ],
            "source": [
                "h = [(3, \"Go to home\"), (10, \"Do not study\"), (1, \"Enjoy!\"), (4, \"Eat!\"), (7, \"Pray!\")]\n",
                "heapq.heapify(h)\n",
                "print(h)"
            ]
        },
        {
            "cell_type": "markdown",
            "metadata": {},
            "source": [
                "# 최대힙 구하기"
            ]
        },
        {
            "cell_type": "code",
            "execution_count": 27,
            "metadata": {},
            "outputs": [
                {
                    "name": "stdout",
                    "output_type": "stream",
                    "text": [
                        "[(-9, 9), (-7, 7), (-3, 3), (-1, 1), (-5, 5)]\n",
                        "9 7 5 3 1 "
                    ]
                }
            ],
            "source": [
                "heap_items = [1,3,5,7,9]\n",
                "\n",
                "# 최대힙 리스트 만듦\n",
                "max_heap = []\n",
                "for item in heap_items:\n",
                "  heapq.heappush(max_heap, (-item, item))\n",
                "print(max_heap)\n",
                "\n",
                "# 최대힙 값 불러오기\n",
                "for _ in range(len(max_heap)):\n",
                "    max_item = heapq.heappop(max_heap)[1]\n",
                "    print(max_item, end = \" \")"
            ]
        },
        {
            "cell_type": "markdown",
            "metadata": {},
            "source": [
                "# permutations (순열)"
            ]
        },
        {
            "cell_type": "code",
            "execution_count": 31,
            "metadata": {},
            "outputs": [
                {
                    "name": "stdout",
                    "output_type": "stream",
                    "text": [
                        "1 7 17 71 "
                    ]
                }
            ],
            "source": [
                "# 예시) 1과 7 로 만들 수 있는 모든 수\n",
                "from itertools import permutations\n",
                "\n",
                "numbers = [1,7]\n",
                "for i in range(1,len(numbers)+1):\n",
                "    arr = list(permutations(numbers,i)) # i=1 : [(1,), (7,)], i=2 : [(1, 7), (7, 1)]\n",
                "    for j in range(len(arr)):\n",
                "        num = int(''.join(map(str,arr[j])))\n",
                "        print(num, end = \" \")"
            ]
        },
        {
            "cell_type": "markdown",
            "metadata": {},
            "source": [
                "# 1. 순열(permutations)\n",
                "\n",
                "- 중복을 허용하지 않는다.\n",
                "- 순서에 의미가 있다 (= 같은 값이 뽑히더라도 순서가 다르면 다른 경우의 수로 판단)"
            ]
        },
        {
            "cell_type": "code",
            "execution_count": 1,
            "metadata": {},
            "outputs": [
                {
                    "name": "stdout",
                    "output_type": "stream",
                    "text": [
                        "[(1,), (2,), (3,), (4,)]\n",
                        "[(1, 2), (1, 3), (1, 1), (2, 1), (2, 3), (2, 1), (3, 1), (3, 2), (3, 1), (1, 1), (1, 2), (1, 3)]\n"
                    ]
                }
            ],
            "source": [
                "from itertools import permutations\n",
                "\n",
                "# permutations(반복 가능한 객체, n) // n=몇개를 뽑을 것인지\n",
                "print(list(permutations([1,2,3,4], 1)))\n",
                "print(list(permutations([1,2,3,1], 3)))\n"
            ]
        },
        {
            "cell_type": "markdown",
            "metadata": {},
            "source": [
                "# 2. 중복 순열(product)\n",
                "\n",
                "- 중복을 허용하는 순열"
            ]
        },
        {
            "cell_type": "code",
            "execution_count": 34,
            "metadata": {},
            "outputs": [
                {
                    "name": "stdout",
                    "output_type": "stream",
                    "text": [
                        "[(1, 1), (1, 2), (1, 3), (1, 4), (2, 1), (2, 2), (2, 3), (2, 4), (3, 1), (3, 2), (3, 3), (3, 4), (4, 1), (4, 2), (4, 3), (4, 4)]\n",
                        "[(1, 1), (1, 2), (1, 3), (1, 1), (2, 1), (2, 2), (2, 3), (2, 1), (3, 1), (3, 2), (3, 3), (3, 1), (1, 1), (1, 2), (1, 3), (1, 1)]\n"
                    ]
                }
            ],
            "source": [
                "# product(반복 가능한 객체, repeat=num)\n",
                "from itertools import product\n",
                "\n",
                "print(list(product([1,2,3,4], repeat=2)))\n",
                "print(list(product([1,2,3,1], repeat=2)))"
            ]
        },
        {
            "cell_type": "markdown",
            "metadata": {},
            "source": [
                "# 3. 조합(combinations)\n",
                "\n",
                "- 중복을 허용하지 않는다.\n",
                "- 순서에 의미가 없다 (= 같은 값이 뽑히면 같은 경우의 수로 판단)"
            ]
        },
        {
            "cell_type": "code",
            "execution_count": 39,
            "metadata": {},
            "outputs": [
                {
                    "name": "stdout",
                    "output_type": "stream",
                    "text": [
                        "[(1, 2), (1, 3), (1, 4), (2, 3), (2, 4), (3, 4)]\n",
                        "[(1, 2), (1, 3), (1, 1), (2, 3), (2, 1), (3, 1)]\n"
                    ]
                }
            ],
            "source": [
                "#combinations(반복 가능한 객체, n) // n=몇개를 뽑을 것인지\n",
                "from itertools import combinations\n",
                "\n",
                "print(list(combinations([1,2,3,4], 2)))\n",
                "print(list(combinations([1,2,3,1], 2)))\n"
            ]
        },
        {
            "cell_type": "markdown",
            "metadata": {},
            "source": [
                "# 4. 중복 조합(combinations_with_replacement)\n",
                "\n",
                "- 중복을 허용하는 조합"
            ]
        },
        {
            "cell_type": "code",
            "execution_count": 40,
            "metadata": {},
            "outputs": [
                {
                    "name": "stdout",
                    "output_type": "stream",
                    "text": [
                        "[(1, 1), (1, 2), (1, 3), (1, 4), (2, 2), (2, 3), (2, 4), (3, 3), (3, 4), (4, 4)]\n",
                        "[(1, 1), (1, 2), (1, 3), (1, 1), (2, 2), (2, 3), (2, 1), (3, 3), (3, 1), (1, 1)]\n"
                    ]
                }
            ],
            "source": [
                "#combinations_with_replacement(반복 가능한 객체, n) // n=몇개를 뽑을 것인지\n",
                "from itertools import combinations_with_replacement\n",
                "\n",
                "print(list(combinations_with_replacement([1,2,3,4], 2)))\n",
                "print(list(combinations_with_replacement([1,2,3,1], 2)))"
            ]
        },
        {
            "cell_type": "markdown",
            "metadata": {},
            "source": [
                "# BFS, DFS"
            ]
        },
        {
            "cell_type": "code",
            "execution_count": 32,
            "metadata": {},
            "outputs": [],
            "source": [
                "# graph_list : dict \n",
                "# set([3,4]) = {3,4}\n",
                "graph_list = {1: set([3, 4]),\n",
                "              2: set([3, 4, 5]),\n",
                "              3: set([1, 5]),\n",
                "              4: set([1]),\n",
                "              5: set([2, 6]),\n",
                "              6: set([3, 5])}\n",
                "root_node = 1"
            ]
        },
        {
            "cell_type": "code",
            "execution_count": 30,
            "metadata": {},
            "outputs": [
                {
                    "name": "stdout",
                    "output_type": "stream",
                    "text": [
                        "[1, 3, 4, 5, 2, 6]\n"
                    ]
                }
            ],
            "source": [
                "from collections import deque\n",
                "def BFS_with_adj_list(graph,root):\n",
                "    visited = []\n",
                "    q = deque([root])\n",
                "    while q:\n",
                "        n = q.popleft()\n",
                "        if n not in visited:\n",
                "            visited.append(n)\n",
                "            # q: list인데 set 더하기가 가능\n",
                "            q += graph[n] - set(visited)\n",
                "    return visited\n",
                "\n",
                "print(BFS_with_adj_list(graph_list,root_node))"
            ]
        },
        {
            "cell_type": "code",
            "execution_count": 40,
            "metadata": {},
            "outputs": [
                {
                    "name": "stdout",
                    "output_type": "stream",
                    "text": [
                        "[1, 4, 3, 5, 6, 2]\n"
                    ]
                }
            ],
            "source": [
                "def DFS_with_adj_list(graph,root):\n",
                "    visited = []\n",
                "    q = deque([root])\n",
                "    while q :\n",
                "        n = q.pop()\n",
                "        if n not in visited:\n",
                "            visited.append(n)\n",
                "            q += graph[n] - set(visited)\n",
                "    return visited\n",
                "print(DFS_with_adj_list(graph_list,root_node))\n"
            ]
        },
        {
            "cell_type": "markdown",
            "metadata": {},
            "source": [
                "# 백트래킹"
            ]
        },
        {
            "cell_type": "code",
            "execution_count": 1,
            "metadata": {},
            "outputs": [],
            "source": [
                "n, m = 4, 2\n",
                "s = []"
            ]
        },
        {
            "cell_type": "markdown",
            "metadata": {},
            "source": [
                "### 순열"
            ]
        },
        {
            "cell_type": "code",
            "execution_count": 2,
            "metadata": {},
            "outputs": [
                {
                    "name": "stdout",
                    "output_type": "stream",
                    "text": [
                        "1 2\n",
                        "1 3\n",
                        "1 4\n",
                        "2 1\n",
                        "2 3\n",
                        "2 4\n",
                        "3 1\n",
                        "3 2\n",
                        "3 4\n",
                        "4 1\n",
                        "4 2\n",
                        "4 3\n"
                    ]
                }
            ],
            "source": [
                "def dfs():\n",
                "    if len(s) == m:\n",
                "        print(' '.join(map(str,s)))\n",
                "    for i in range(1, n+1):\n",
                "        if i not in s:\n",
                "            s.append(i)\n",
                "            dfs()\n",
                "            s.pop()\n",
                "\n",
                "dfs()"
            ]
        },
        {
            "cell_type": "markdown",
            "metadata": {},
            "source": [
                "### 조합"
            ]
        },
        {
            "cell_type": "code",
            "execution_count": null,
            "metadata": {},
            "outputs": [
                {
                    "name": "stdout",
                    "output_type": "stream",
                    "text": [
                        "1 2\n",
                        "1 3\n",
                        "1 4\n",
                        "2 3\n",
                        "2 4\n",
                        "3 4\n"
                    ]
                }
            ],
            "source": [
                "def dfs(start):\n",
                "    if len(s) == m:\n",
                "        print(' '.join(map(str,s)))\n",
                "        return\n",
                "    for i in range(start, n+1):\n",
                "        if i not in s:\n",
                "            s.append(i)\n",
                "            dfs(i+1)\n",
                "            s.pop()\n",
                "\n",
                "dfs(1)"
            ]
        },
        {
            "cell_type": "markdown",
            "metadata": {},
            "source": [
                "### 중복순열"
            ]
        },
        {
            "cell_type": "code",
            "execution_count": 4,
            "metadata": {},
            "outputs": [
                {
                    "name": "stdout",
                    "output_type": "stream",
                    "text": [
                        "1 1\n",
                        "1 2\n",
                        "1 3\n",
                        "1 4\n",
                        "2 1\n",
                        "2 2\n",
                        "2 3\n",
                        "2 4\n",
                        "3 1\n",
                        "3 2\n",
                        "3 3\n",
                        "3 4\n",
                        "4 1\n",
                        "4 2\n",
                        "4 3\n",
                        "4 4\n"
                    ]
                }
            ],
            "source": [
                "def dfs():\n",
                "    if len(s) == m:\n",
                "        print(' '.join(map(str,s)))\n",
                "        return\n",
                "    for i in range(1, n+1):\n",
                "        s.append(i)\n",
                "        dfs()\n",
                "        s.pop()\n",
                "\n",
                "dfs()"
            ]
        },
        {
            "cell_type": "markdown",
            "metadata": {},
            "source": [
                "### 중복조합"
            ]
        },
        {
            "cell_type": "code",
            "execution_count": null,
            "metadata": {},
            "outputs": [],
            "source": [
                "def dfs(start):\n",
                "    if len(s) == m:\n",
                "        print(' '.join(map(str,s)))\n",
                "        return\n",
                "    for i in range(start, n+1):\n",
                "        s.append(i)\n",
                "        dfs(i)\n",
                "        s.pop()\n",
                "\n",
                "dfs(1)"
            ]
        }
    ],
    "metadata": {
        "interpreter": {
            "hash": "3b7e9cb8e453d6cda0fe8c8dd13f891a1f09162f0e7c66ffeae7751a7aecf00d"
        },
        "kernelspec": {
            "display_name": "Python 3.10.4 64-bit (windows store)",
            "language": "python",
            "name": "python3"
        },
        "language_info": {
            "codemirror_mode": {
                "name": "ipython",
                "version": 3
            },
            "file_extension": ".py",
            "mimetype": "text/x-python",
            "name": "python",
            "nbconvert_exporter": "python",
            "pygments_lexer": "ipython3",
            "version": "3.10.4"
        },
        "orig_nbformat": 4
    },
    "nbformat": 4,
    "nbformat_minor": 2
}
