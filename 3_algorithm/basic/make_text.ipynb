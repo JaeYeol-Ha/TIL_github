{
 "cells": [
  {
   "cell_type": "code",
   "execution_count": 13,
   "source": [
    "f = open('D:\\\\2. Programming\\\\0. TIL\\\\TIL_github\\\\1. python\\\\1. study\\\\Python_for_Fun.txt')\r\n",
    "f.read()"
   ],
   "outputs": [
    {
     "output_type": "execute_result",
     "data": {
      "text/plain": [
       "'Programming is fun.\\nVery fun!\\n\\nYou have to do it yourself...'"
      ]
     },
     "metadata": {},
     "execution_count": 13
    }
   ],
   "metadata": {}
  },
  {
   "cell_type": "code",
   "execution_count": 15,
   "source": [
    "f = open('D:\\\\2. Programming\\\\0. TIL\\\\TIL_github\\\\1. python\\\\1. study\\\\Python_for_Fun.txt')\r\n",
    "buffer = f.read()\r\n",
    "print(buffer)"
   ],
   "outputs": [
    {
     "output_type": "stream",
     "name": "stdout",
     "text": [
      "Programming is fun.\n",
      "Very fun!\n",
      "\n",
      "You have to do it yourself...\n"
     ]
    }
   ],
   "metadata": {}
  },
  {
   "cell_type": "code",
   "execution_count": 20,
   "source": [
    "# letter = open('D:\\\\2. Programming\\\\0. TIL\\\\TIL_github\\\\1. python\\\\1. study\\\\letter.txt','w') # 쓰기(수정모드)\r\n",
    "letter = open('D:\\\\2. Programming\\\\0. TIL\\\\TIL_github\\\\1. python\\\\1. study\\\\letter.txt','a+') # 쓰기(삽입모드)\r\n",
    "letter.write('Dear hyuni,')\r\n",
    "# close 안해주면 write가 저장안됨\r\n",
    "letter.close() "
   ],
   "outputs": [
    {
     "output_type": "execute_result",
     "data": {
      "text/plain": [
       "11"
      ]
     },
     "metadata": {},
     "execution_count": 20
    }
   ],
   "metadata": {}
  },
  {
   "cell_type": "code",
   "execution_count": 28,
   "source": [
    "f = open('D:\\\\2. Programming\\\\0. TIL\\\\TIL_github\\\\1. python\\\\1. study\\\\Python_for_Fun.txt')\r\n",
    "lines = f.readlines()\r\n",
    "print(lines[-2:])"
   ],
   "outputs": [
    {
     "output_type": "stream",
     "name": "stdout",
     "text": [
      "['\\n', 'You have to do it yourself...']\n"
     ]
    }
   ],
   "metadata": {}
  },
  {
   "cell_type": "code",
   "execution_count": null,
   "source": [],
   "outputs": [],
   "metadata": {}
  }
 ],
 "metadata": {
  "orig_nbformat": 4,
  "language_info": {
   "name": "python",
   "version": "3.9.0",
   "mimetype": "text/x-python",
   "codemirror_mode": {
    "name": "ipython",
    "version": 3
   },
   "pygments_lexer": "ipython3",
   "nbconvert_exporter": "python",
   "file_extension": ".py"
  },
  "kernelspec": {
   "name": "python3",
   "display_name": "Python 3.9.0 64-bit"
  },
  "interpreter": {
   "hash": "74c171b0dae43ebfb69efb151f805309d9847f071ceff5c363f2f696ccba9211"
  }
 },
 "nbformat": 4,
 "nbformat_minor": 2
}