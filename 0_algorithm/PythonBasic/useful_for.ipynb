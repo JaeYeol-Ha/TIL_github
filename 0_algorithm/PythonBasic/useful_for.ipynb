{
 "cells": [
  {
   "cell_type": "markdown",
   "source": [
    "# # for문 기본 형태\r\n",
    "```\r\n",
    "for 변수 이름 in 이터레이터 오브젝트 : \r\n",
    "    처리\r\n",
    "```"
   ],
   "metadata": {}
  },
  {
   "cell_type": "code",
   "execution_count": null,
   "source": [
    "for name in l:\r\n",
    "    if name == 'bob':\r\n",
    "        print('!!BREAK!!')\r\n",
    "        break\r\n",
    "    print(name)\r\n",
    "else: # for문 다 돌면 남은 배열이 없으므로 else 실행\r\n",
    "    print('!!FINISH!!')"
   ],
   "outputs": [],
   "metadata": {}
  },
  {
   "cell_type": "markdown",
   "source": [
    "# # List 내포\r\n",
    "```\r\n",
    "[ 식 for 변수 이름 in 개체 ]\r\n",
    "```\r\n",
    "\r\n",
    "**`식을 [배열]에 append 한다. 반복횟수는 for문 만큼.`**"
   ],
   "metadata": {}
  },
  {
   "cell_type": "code",
   "execution_count": 11,
   "source": [
    "# for문 이용 배열 채우기\r\n",
    "squares = []\r\n",
    "for i in range(5):\r\n",
    "    squares.append(i**2)\r\n",
    "# *** 위와 같음 ***\r\n",
    "squares = [i**2 for i in range(5)]\r\n",
    "\r\n",
    "print(squares)\r\n",
    "# [0, 1, 4, 9, 16]"
   ],
   "outputs": [
    {
     "output_type": "stream",
     "name": "stdout",
     "text": [
      "[0, 1, 4, 9, 16]\n"
     ]
    }
   ],
   "metadata": {}
  },
  {
   "cell_type": "markdown",
   "source": [
    "# # 2차원 배열\r\n",
    "- 2중 for문으로 2중 리스트 선언"
   ],
   "metadata": {}
  },
  {
   "cell_type": "code",
   "execution_count": 18,
   "source": [
    "array = [[col*row for col in range(3)] for row in range(10)]\r\n",
    "print(array)"
   ],
   "outputs": [
    {
     "output_type": "stream",
     "name": "stdout",
     "text": [
      "[[0, 0, 0], [0, 1, 2], [0, 2, 4], [0, 3, 6], [0, 4, 8], [0, 5, 10], [0, 6, 12], [0, 7, 14], [0, 8, 16], [0, 9, 18]]\n"
     ]
    }
   ],
   "metadata": {}
  },
  {
   "cell_type": "code",
   "execution_count": 20,
   "source": [
    "array = [[0]*3 for i in range(10)]\r\n",
    "print(array)"
   ],
   "outputs": [
    {
     "output_type": "stream",
     "name": "stdout",
     "text": [
      "[[0, 0, 0], [0, 0, 0], [0, 0, 0], [0, 0, 0], [0, 0, 0], [0, 0, 0], [0, 0, 0], [0, 0, 0], [0, 0, 0], [0, 0, 0]]\n"
     ]
    }
   ],
   "metadata": {}
  },
  {
   "cell_type": "markdown",
   "source": [
    "# # enumerate 함수\r\n",
    " - 리스트(배열) 등의 요소를 인덱스(카운터)와 함께 얻으려면 enumerate()함수를 사용합니다."
   ],
   "metadata": {}
  },
  {
   "cell_type": "code",
   "execution_count": 3,
   "source": [
    "l = ['Alice', 'Bob', 'Charlie']\r\n",
    " \r\n",
    "for name in l:\r\n",
    "    print(name)\r\n",
    "# Alice\r\n",
    "# Bob\r\n",
    "# Charlie\r\n",
    " \r\n",
    "for i, name in enumerate(l):\r\n",
    "    print(i, name)\r\n",
    "# 0 Alice\r\n",
    "# 1 Bob\r\n",
    "# 2 Charlie"
   ],
   "outputs": [
    {
     "output_type": "stream",
     "name": "stdout",
     "text": [
      "Alice\n",
      "Bob\n",
      "Charlie\n",
      "0 Alice\n",
      "1 Bob\n",
      "2 Charlie\n"
     ]
    }
   ],
   "metadata": {}
  },
  {
   "cell_type": "markdown",
   "source": [
    "# LIST의 요소 (복수 변수) : zip () 함수\r\n",
    "- LIST 개체(목록)의 요소를 여러 변수로 정리하고 싶다면 zip()함수를 사용합니다."
   ],
   "metadata": {}
  },
  {
   "cell_type": "code",
   "execution_count": 4,
   "source": [
    "names = ['Alice', 'Bob', 'Charlie']\r\n",
    "ages = [24, 50, 18]\r\n",
    " \r\n",
    "for name, age in zip(names, ages):\r\n",
    "    print(name, age)\r\n",
    "# Alice 24\r\n",
    "# Bob 50\r\n",
    "# Charlie 18"
   ],
   "outputs": [
    {
     "output_type": "stream",
     "name": "stdout",
     "text": [
      "Alice 24\n",
      "Bob 50\n",
      "Charlie 18\n"
     ]
    }
   ],
   "metadata": {}
  },
  {
   "cell_type": "markdown",
   "source": [
    "# #역순 : reversed () 함수\r\n",
    "- 요소를 역순으로 얻으려면 reversed() 함수를 사용합니다."
   ],
   "metadata": {}
  },
  {
   "cell_type": "code",
   "execution_count": 5,
   "source": [
    "l = ['Alice', 'Bob', 'Charlie']\r\n",
    " \r\n",
    "for name in reversed(l):\r\n",
    "    print(name)\r\n",
    "# Charlie\r\n",
    "# Bob\r\n",
    "# Alice"
   ],
   "outputs": [
    {
     "output_type": "stream",
     "name": "stdout",
     "text": [
      "Charlie\n",
      "Bob\n",
      "Alice\n"
     ]
    }
   ],
   "metadata": {}
  },
  {
   "cell_type": "markdown",
   "source": [
    "# #dictionary for loop"
   ],
   "metadata": {}
  },
  {
   "cell_type": "code",
   "execution_count": 7,
   "source": [
    "d = {'key1': 1, 'key2': 2, 'key3': 3}\r\n",
    "\r\n",
    "for k in d:\r\n",
    "    print(k)"
   ],
   "outputs": [
    {
     "output_type": "stream",
     "name": "stdout",
     "text": [
      "key1\n",
      "key2\n",
      "key3\n"
     ]
    }
   ],
   "metadata": {}
  },
  {
   "cell_type": "code",
   "execution_count": 8,
   "source": [
    "for v in d.values():\r\n",
    "    print(v)"
   ],
   "outputs": [
    {
     "output_type": "stream",
     "name": "stdout",
     "text": [
      "1\n",
      "2\n",
      "3\n"
     ]
    }
   ],
   "metadata": {}
  },
  {
   "cell_type": "code",
   "execution_count": 9,
   "source": [
    "for k,v in d.items():\r\n",
    "    print(k,v)"
   ],
   "outputs": [
    {
     "output_type": "stream",
     "name": "stdout",
     "text": [
      "key1 1\n",
      "key2 2\n",
      "key3 3\n"
     ]
    }
   ],
   "metadata": {}
  }
 ],
 "metadata": {
  "orig_nbformat": 4,
  "language_info": {
   "name": "python",
   "version": "3.8.6",
   "mimetype": "text/x-python",
   "codemirror_mode": {
    "name": "ipython",
    "version": 3
   },
   "pygments_lexer": "ipython3",
   "nbconvert_exporter": "python",
   "file_extension": ".py"
  },
  "kernelspec": {
   "name": "python3",
   "display_name": "Python 3.8.6 32-bit"
  },
  "interpreter": {
   "hash": "413aeabd1da1266dafc9caa713f67d86d4901ad1d349e3ce673f144a1d1f5b6b"
  }
 },
 "nbformat": 4,
 "nbformat_minor": 2
}