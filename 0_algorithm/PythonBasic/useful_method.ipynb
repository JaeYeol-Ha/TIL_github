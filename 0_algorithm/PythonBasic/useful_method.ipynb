{
    "cells": [
        {
            "cell_type": "markdown",
            "metadata": {},
            "source": [
                "# 문제풀이 유용한 함수들"
            ]
        },
        {
            "cell_type": "code",
            "execution_count": 3,
            "metadata": {},
            "outputs": [
                {
                    "data": {
                        "text/plain": [
                            "1.23"
                        ]
                    },
                    "execution_count": 3,
                    "metadata": {},
                    "output_type": "execute_result"
                }
            ],
            "source": [
                "round(1.2345, 2) # 1.23"
            ]
        },
        {
            "cell_type": "code",
            "execution_count": 4,
            "metadata": {},
            "outputs": [
                {
                    "data": {
                        "text/plain": [
                            "['0', '100']"
                        ]
                    },
                    "execution_count": 4,
                    "metadata": {},
                    "output_type": "execute_result"
                }
            ],
            "source": [
                "'0 100'.split() # ['0', '100']"
            ]
        },
        {
            "cell_type": "code",
            "execution_count": 7,
            "metadata": {},
            "outputs": [
                {
                    "name": "stdout",
                    "output_type": "stream",
                    "text": [
                        "0 100\n"
                    ]
                }
            ],
            "source": [
                "freezing_point, boiling_point = '0 100'.split()\n",
                "print(freezing_point,boiling_point)"
            ]
        },
        {
            "cell_type": "code",
            "execution_count": 8,
            "metadata": {},
            "outputs": [
                {
                    "name": "stdout",
                    "output_type": "stream",
                    "text": [
                        "2 * 1 =  2\n",
                        "2 * 2 =  4\n",
                        "2 * 3 =  6\n",
                        "2 * 4 =  8\n",
                        "2 * 5 = 10\n",
                        "2 * 6 = 12\n",
                        "2 * 7 = 14\n",
                        "2 * 8 = 16\n",
                        "2 * 9 = 18\n"
                    ]
                }
            ],
            "source": [
                "m = 2\n",
                "for n in range(1, 10):\n",
                "    print(f'{m} * {n} = {m*n:2d}')"
            ]
        },
        {
            "cell_type": "markdown",
            "metadata": {},
            "source": [
                "# 이게 뭐람다(lambda)?\n",
                " - lambda 인자 : 표현식"
            ]
        },
        {
            "cell_type": "code",
            "execution_count": 3,
            "metadata": {},
            "outputs": [
                {
                    "data": {
                        "text/plain": [
                            "30"
                        ]
                    },
                    "execution_count": 3,
                    "metadata": {},
                    "output_type": "execute_result"
                }
            ],
            "source": [
                "def hap(x,y):\n",
                "    return x+y\n",
                "hap(10,20)"
            ]
        },
        {
            "cell_type": "code",
            "execution_count": 4,
            "metadata": {},
            "outputs": [
                {
                    "data": {
                        "text/plain": [
                            "30"
                        ]
                    },
                    "execution_count": 4,
                    "metadata": {},
                    "output_type": "execute_result"
                }
            ],
            "source": [
                "(lambda x,y:x+y)(10,20)"
            ]
        },
        {
            "cell_type": "markdown",
            "metadata": {},
            "source": [
                "# map(함수, 리스트)\n",
                "\n",
                "  - 리스트로부터 원소를 하나씩 꺼내서 함수를 적용시킨 다음, 그 결과를 새로운 리스트에 담아줌"
            ]
        },
        {
            "cell_type": "code",
            "execution_count": 6,
            "metadata": {},
            "outputs": [
                {
                    "data": {
                        "text/plain": [
                            "<map at 0x1f44eca9580>"
                        ]
                    },
                    "execution_count": 6,
                    "metadata": {},
                    "output_type": "execute_result"
                }
            ],
            "source": [
                "map(lambda x: x ** 2, range(5)) "
            ]
        },
        {
            "cell_type": "code",
            "execution_count": 1,
            "metadata": {},
            "outputs": [
                {
                    "data": {
                        "text/plain": [
                            "[0, 1, 4, 9, 16]"
                        ]
                    },
                    "execution_count": 1,
                    "metadata": {},
                    "output_type": "execute_result"
                }
            ],
            "source": [
                "list(map(lambda x: x ** 2, range(5)))"
            ]
        },
        {
            "cell_type": "markdown",
            "metadata": {},
            "source": [
                "# 데이터 타입\n",
                "## 자료형"
            ]
        },
        {
            "cell_type": "code",
            "execution_count": 2,
            "metadata": {},
            "outputs": [
                {
                    "data": {
                        "text/plain": [
                            "int"
                        ]
                    },
                    "execution_count": 2,
                    "metadata": {},
                    "output_type": "execute_result"
                }
            ],
            "source": [
                "type(10000000)"
            ]
        },
        {
            "cell_type": "code",
            "execution_count": 3,
            "metadata": {},
            "outputs": [
                {
                    "data": {
                        "text/plain": [
                            "list"
                        ]
                    },
                    "execution_count": 3,
                    "metadata": {},
                    "output_type": "execute_result"
                }
            ],
            "source": [
                "type(['love', 'enemy', 'fault'])"
            ]
        },
        {
            "cell_type": "code",
            "execution_count": 4,
            "metadata": {},
            "outputs": [
                {
                    "data": {
                        "text/plain": [
                            "tuple"
                        ]
                    },
                    "execution_count": 4,
                    "metadata": {},
                    "output_type": "execute_result"
                }
            ],
            "source": [
                "# 튜플 : 리스트와 같지만, 변경불가, () 생략가능\n",
                "type(('love', 'enemy', 'fault'))"
            ]
        },
        {
            "cell_type": "code",
            "execution_count": 5,
            "metadata": {},
            "outputs": [
                {
                    "data": {
                        "text/plain": [
                            "tuple"
                        ]
                    },
                    "execution_count": 5,
                    "metadata": {},
                    "output_type": "execute_result"
                }
            ],
            "source": [
                "menu = '쫄면', '육계장', '비빔밥'\n",
                "type(menu)"
            ]
        },
        {
            "cell_type": "code",
            "execution_count": 6,
            "metadata": {},
            "outputs": [
                {
                    "data": {
                        "text/plain": [
                            "dict"
                        ]
                    },
                    "execution_count": 6,
                    "metadata": {},
                    "output_type": "execute_result"
                }
            ],
            "source": [
                "# 딕셔너리(dict)는 키(key)와 값(value)의 짝으로 이뤄집니다. 이런 것을 매핑이라고 합니다.\n",
                "type({'one': 1, 'two': 2, 'three': 3})"
            ]
        },
        {
            "cell_type": "code",
            "execution_count": 7,
            "metadata": {},
            "outputs": [
                {
                    "data": {
                        "text/plain": [
                            "set"
                        ]
                    },
                    "execution_count": 7,
                    "metadata": {},
                    "output_type": "execute_result"
                }
            ],
            "source": [
                "# set(세트)는 원소의 순서가 유지되지 않고 중복 원소를 갖지 않는 ‘집합’으로서의 특징이 있으며, 집합 연산을 사용할 수 있습니다.\n",
                "type({'apple', 'banana', 'orange'})"
            ]
        },
        {
            "cell_type": "markdown",
            "metadata": {},
            "source": [
                "## 4.2 문자열과 리스트"
            ]
        },
        {
            "cell_type": "code",
            "execution_count": 8,
            "metadata": {},
            "outputs": [],
            "source": [
                "prime = [3, 7, 11]"
            ]
        },
        {
            "cell_type": "code",
            "execution_count": 9,
            "metadata": {},
            "outputs": [],
            "source": [
                "# 2번째 원소 삭제\n",
                "del prime[2]"
            ]
        },
        {
            "cell_type": "code",
            "execution_count": 10,
            "metadata": {},
            "outputs": [
                {
                    "data": {
                        "text/plain": [
                            "[3, 7]"
                        ]
                    },
                    "execution_count": 10,
                    "metadata": {},
                    "output_type": "execute_result"
                }
            ],
            "source": [
                "prime"
            ]
        },
        {
            "cell_type": "code",
            "execution_count": 11,
            "metadata": {},
            "outputs": [
                {
                    "data": {
                        "text/plain": [
                            "['B', 'e', ' ', 'h', 'a', 'p', 'p', 'y', '!']"
                        ]
                    },
                    "execution_count": 11,
                    "metadata": {},
                    "output_type": "execute_result"
                }
            ],
            "source": [
                "# string을 list로 변환하면 char이 된다.\n",
                "list('Be happy!')"
            ]
        },
        {
            "cell_type": "code",
            "execution_count": 12,
            "metadata": {},
            "outputs": [
                {
                    "data": {
                        "text/plain": [
                            "123"
                        ]
                    },
                    "execution_count": 12,
                    "metadata": {},
                    "output_type": "execute_result"
                }
            ],
            "source": [
                "# 문자를 숫자로 바꾸기\n",
                "int('123')"
            ]
        },
        {
            "cell_type": "markdown",
            "metadata": {},
            "source": [
                "## sum 함수가 있더라~!"
            ]
        },
        {
            "cell_type": "code",
            "execution_count": 13,
            "metadata": {},
            "outputs": [
                {
                    "data": {
                        "text/plain": [
                            "55"
                        ]
                    },
                    "execution_count": 13,
                    "metadata": {},
                    "output_type": "execute_result"
                }
            ],
            "source": [
                "# sum 함수가 있다!!!!!!!!\n",
                "one_to_ten = list(range(1, 11))\n",
                "sum(one_to_ten)"
            ]
        },
        {
            "cell_type": "markdown",
            "metadata": {},
            "source": [
                "# #리스트를 한 줄로 표현하기"
            ]
        },
        {
            "cell_type": "code",
            "execution_count": 14,
            "metadata": {},
            "outputs": [
                {
                    "name": "stdout",
                    "output_type": "stream",
                    "text": [
                        "1 2 3 4 5\n"
                    ]
                }
            ],
            "source": [
                "secret_words = ['1','2','3','4','5']\n",
                "message = ' '.join(secret_words)\n",
                "print(message)"
            ]
        },
        {
            "cell_type": "markdown",
            "metadata": {},
            "source": [
                "# # zip , enumerate"
            ]
        },
        {
            "cell_type": "code",
            "execution_count": 1,
            "metadata": {},
            "outputs": [
                {
                    "name": "stdout",
                    "output_type": "stream",
                    "text": [
                        "0 a1\n",
                        "1 a2\n",
                        "2 a3\n"
                    ]
                }
            ],
            "source": [
                "# enumerate : 배열 -> [(index, value),....]\n",
                "alist = ['a1','a2','a3']\n",
                "\n",
                "for index, value in enumerate(alist):\n",
                "    print(index, value)"
            ]
        },
        {
            "cell_type": "code",
            "execution_count": 3,
            "metadata": {},
            "outputs": [
                {
                    "name": "stdout",
                    "output_type": "stream",
                    "text": [
                        "zero a1\n",
                        "one a2\n",
                        "two a3\n"
                    ]
                }
            ],
            "source": [
                "alist2 = ['zero','one','two']\n",
                "\n",
                "for a,b in zip(alist2, alist):\n",
                "    print(a,b)"
            ]
        },
        {
            "cell_type": "markdown",
            "metadata": {},
            "source": [
                "# 결론\n",
                "## 1. index와 value 를 모두 사용해야 할 경우에는 enumerate,\n",
                "## 2. 2개의 list를 하나씩 꺼내서 써야할 경우 zip을 쓰자."
            ]
        },
        {
            "cell_type": "code",
            "execution_count": 26,
            "metadata": {},
            "outputs": [
                {
                    "name": "stdout",
                    "output_type": "stream",
                    "text": [
                        "idx,i,j: 0 김비바 김비바\n",
                        "idx,i,j: 1 김비바 김비바\n",
                        "idx,i,j: 2 김비바 이비바\n",
                        "idx,i,j: 3 김비바 김토스\n",
                        "idx,i,j: 4 김비바 이비바\n",
                        "idx,i,j: 5 김비바 김비바\n",
                        "idx,i,j: 0 이비바 김비바A\n",
                        "idx,i,j: 1 이비바 김비바B\n",
                        "idx,i,j: 2 이비바 이비바\n",
                        "idx,i,j: 3 이비바 김토스\n",
                        "idx,i,j: 4 이비바 이비바\n",
                        "idx,i,j: 5 이비바 김비바C\n",
                        "idx,i,j: 0 김토스 김비바A\n",
                        "idx,i,j: 1 김토스 김비바B\n",
                        "idx,i,j: 2 김토스 이비바A\n",
                        "idx,i,j: 3 김토스 김토스\n",
                        "idx,i,j: 4 김토스 이비바B\n",
                        "idx,i,j: 5 김토스 김비바C\n"
                    ]
                },
                {
                    "data": {
                        "text/plain": [
                            "['김비바A', '김비바B', '이비바A', '김토스A', '이비바B', '김비바C']"
                        ]
                    },
                    "execution_count": 26,
                    "metadata": {},
                    "output_type": "execute_result"
                }
            ],
            "source": []
        }
    ],
    "metadata": {
        "interpreter": {
            "hash": "3b7e9cb8e453d6cda0fe8c8dd13f891a1f09162f0e7c66ffeae7751a7aecf00d"
        },
        "kernelspec": {
            "display_name": "Python 3.10.4 64-bit (windows store)",
            "language": "python",
            "name": "python3"
        },
        "language_info": {
            "codemirror_mode": {
                "name": "ipython",
                "version": 3
            },
            "file_extension": ".py",
            "mimetype": "text/x-python",
            "name": "python",
            "nbconvert_exporter": "python",
            "pygments_lexer": "ipython3",
            "version": "3.10.4"
        },
        "orig_nbformat": 4
    },
    "nbformat": 4,
    "nbformat_minor": 2
}
