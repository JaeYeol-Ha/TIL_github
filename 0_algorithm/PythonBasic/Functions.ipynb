{
 "cells": [
  {
   "cell_type": "code",
   "execution_count": 2,
   "metadata": {},
   "outputs": [
    {
     "name": "stdout",
     "output_type": "stream",
     "text": [
      "print(value, ..., sep=' ', end='\\n', file=sys.stdout, flush=False)\n",
      "\n",
      "Prints the values to a stream, or to sys.stdout by default.\n",
      "Optional keyword arguments:\n",
      "file:  a file-like object (stream); defaults to the current sys.stdout.\n",
      "sep:   string inserted between values, default a space.\n",
      "end:   string appended after the last value, default a newline.\n",
      "flush: whether to forcibly flush the stream.\n"
     ]
    }
   ],
   "source": [
    "#docstring\n",
    "def sample_function():\n",
    "    \"\"\"\n",
    "    함수에 대한 설명을 기록합니다.\n",
    "    sample_function은 함수를 설명하기 위한 예제 함수 입니다.\n",
    "\n",
    "    (예시)\n",
    "    호출의 예.\n",
    "    sample_function()\n",
    "    \"\"\"\n",
    "    print('함수가 호출 되었습니다.')\n",
    "\n",
    "print(print.__doc__)"
   ]
  },
  {
   "cell_type": "code",
   "execution_count": 3,
   "metadata": {},
   "outputs": [
    {
     "name": "stdout",
     "output_type": "stream",
     "text": [
      "===============\n",
      "전체 나이의 합계: 0\n"
     ]
    }
   ],
   "source": [
    "def add_function(**kwargs):\n",
    "    total_age = 0\n",
    "    for name, age in kwargs.items():\n",
    "        print(f'이름: {name}, 나이: {age}')\n",
    "        total_age += age\n",
    "    print('==='* 5)\n",
    "    print(f'전체 나이의 합계: {total_age}')\n",
    "\n",
    "\n",
    "add_function()\n"
   ]
  },
  {
   "cell_type": "code",
   "execution_count": 4,
   "metadata": {},
   "outputs": [
    {
     "name": "stdout",
     "output_type": "stream",
     "text": [
      "이름: john, 나이: 10\n",
      "이름: peter, 나이: 12\n",
      "이름: lee, 나이: 5\n",
      "===============\n",
      "전체 나이의 합계: 27\n"
     ]
    }
   ],
   "source": [
    "person = {'john': 10, 'peter': 12, 'lee': 5}\n",
    "add_function(**person)"
   ]
  },
  {
   "cell_type": "code",
   "execution_count": null,
   "metadata": {},
   "outputs": [],
   "source": [
    "# 연습문제 1\n",
    "# 대문자로 바꾸는 함수\n",
    "def capital_letter(letter: str):\n",
    "    return letter.upper()\n",
    "\n",
    "capital_letter('hi')"
   ]
  },
  {
   "cell_type": "code",
   "execution_count": 2,
   "metadata": {},
   "outputs": [
    {
     "data": {
      "text/plain": [
       "24"
      ]
     },
     "execution_count": 2,
     "metadata": {},
     "output_type": "execute_result"
    }
   ],
   "source": [
    "# 연습문제 2\n",
    "# *args 로 여러개 연산하는 함수\n",
    "import math\n",
    "\n",
    "def calc_many(s:str, *args):\n",
    "    if s == 'sum':\n",
    "        return sum(args)\n",
    "    if s == 'mul':\n",
    "        return math.prod(args)\n",
    "        \n",
    "calc_many('mul', 1,2,3,4)        \n"
   ]
  }
 ],
 "metadata": {
  "kernelspec": {
   "display_name": "Python 3.10.5 64-bit",
   "language": "python",
   "name": "python3"
  },
  "language_info": {
   "codemirror_mode": {
    "name": "ipython",
    "version": 3
   },
   "file_extension": ".py",
   "mimetype": "text/x-python",
   "name": "python",
   "nbconvert_exporter": "python",
   "pygments_lexer": "ipython3",
   "version": "3.10.5"
  },
  "orig_nbformat": 4,
  "vscode": {
   "interpreter": {
    "hash": "028825f3e86f580b1221a53cf329af3fae269fd8633f98d400a2790fbe0640b6"
   }
  }
 },
 "nbformat": 4,
 "nbformat_minor": 2
}
