{
 "cells": [
  {
   "cell_type": "markdown",
   "metadata": {},
   "source": [
    "## Chap16. 다이나믹프로그래밍\n",
    "\n",
    "- 한 번 해결된 부분 문제의 정답을 메모리에 기록하여, 한 번 계산한 답은 다시 계산하지 않도록 하는 문제 해결 기법\n",
    "- 점화식을 코드로 옮기는 방식\n",
    "  \n",
    "### #탑다운, 보텀업\n",
    "- 탑다운 : 재귀 함수를 이용해 큰 문제를 해결하기 위해 작은 문제를 호출\n",
    "- 보텀업 : 단순 반복문으로 작은 문제를 해결하고 이를 모아 큰 문제를 해결하는 방식"
   ]
  },
  {
   "cell_type": "markdown",
   "metadata": {},
   "source": [
    "### Q31 금광"
   ]
  },
  {
   "cell_type": "code",
   "execution_count": null,
   "metadata": {},
   "outputs": [
    {
     "ename": "",
     "evalue": "",
     "output_type": "error",
     "traceback": [
      "\u001b[1;31mCanceled future for execute_request message before replies were done"
     ]
    },
    {
     "ename": "",
     "evalue": "",
     "output_type": "error",
     "traceback": [
      "현재 셀 또는 이전 셀에서 코드를 실행하는 동안 Kernel이 충돌했습니다. 셀의 코드를 검토하여 오류의 가능한 원인을 식별하세요. 자세한 내용을 보려면 <a href='https://aka.ms/vscodeJupyterKernelCrash'> 여기 </a> 를 클릭하세요. 자세한 내용은 Jupyter <a href='command:jupyter.viewOutput'>로그</a>를 참조하세요."
     ]
    }
   ],
   "source": [
    "rows, cols = 3, 4\n",
    "arr = [1, 3, 3, 2, 2, 1, 4, 1, 0, 6, 4, 7]\n",
    "\n",
    "matrix = [arr[i*cols:(i+1)*cols] for i in range(rows)]\n",
    "stacked = [[0 for _ in range(cols)] for _ in range(rows)]\n",
    "# 풀이 방법 :\n",
    "# matrix[0][0] => [0][1] => 이미 풀었으면(isSolved) 최대값(max)으로\n",
    "#                 [1][1]\n",
    "# matrix[1][0] => [0][1]\n",
    "#                 [1][1]\n",
    "#                 [2][1]\n",
    "# matrix[2][0] => ...\n",
    "\n",
    "\n",
    "def mining(row, col, rows, cols, matrix):\n",
    "    if rows > row > 0:\n",
    "        if col == 0:\n",
    "            stacked[row][col] = matrix[row][col]\n",
    "        elif cols > col > 0:\n",
    "            stacked[row][col] = max(matrix[row-1][col-1],matrix[row][col-1],matrix[row+1][col-1]) + matrix[row][col]\n",
    "        mining(row-1, col+1, rows, cols, matrix)\n",
    "        mining(row, col+1, rows, cols, matrix)\n",
    "        mining(row+1, col+1, rows, cols, matrix)\n",
    "\n",
    "\n",
    "def solution(rows, cols, matrix):\n",
    "    # row: 1번 째 열부터 가능한 순서대로 진행\n",
    "    for row in range(rows):\n",
    "        # 라인별로 채굴\n",
    "        mining(row, 0, rows, cols, matrix)\n",
    "    return stacked\n",
    "\n",
    "solution(rows, cols, matrix)"
   ]
  }
 ],
 "metadata": {
  "kernelspec": {
   "display_name": "Python 3.10.5 64-bit",
   "language": "python",
   "name": "python3"
  },
  "language_info": {
   "codemirror_mode": {
    "name": "ipython",
    "version": 3
   },
   "file_extension": ".py",
   "mimetype": "text/x-python",
   "name": "python",
   "nbconvert_exporter": "python",
   "pygments_lexer": "ipython3",
   "version": "3.10.5"
  },
  "orig_nbformat": 4,
  "vscode": {
   "interpreter": {
    "hash": "028825f3e86f580b1221a53cf329af3fae269fd8633f98d400a2790fbe0640b6"
   }
  }
 },
 "nbformat": 4,
 "nbformat_minor": 2
}
