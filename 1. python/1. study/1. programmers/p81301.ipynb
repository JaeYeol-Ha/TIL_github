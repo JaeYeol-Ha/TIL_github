{
 "cells": [
  {
   "cell_type": "code",
   "execution_count": null,
   "source": [
    "def solution(s):\r\n",
    "    answer = 0\r\n",
    "    return answer"
   ],
   "outputs": [],
   "metadata": {}
  },
  {
   "cell_type": "code",
   "execution_count": 4,
   "source": [
    "num = [0,1,2,3,4,5,6,7,8,9]\r\n",
    "strNum = ['zero','one','two','three','four','five','six','seven','eight','nine']\r\n",
    "s = \"one4seveneight\"\r\n",
    "for i in range(10) : \r\n",
    "    indexNo = s.find(strNum[i])\r\n",
    "    if indexNo >= 0 :\r\n",
    "        a = strNum[i]\r\n",
    "        b = str(num[i])\r\n",
    "        print(indexNo,a,b)\r\n",
    "        s = s.replace(a,b)\r\n",
    "\r\n",
    "print(s)\r\n"
   ],
   "outputs": [
    {
     "output_type": "stream",
     "name": "stdout",
     "text": [
      "0 one 1\n",
      "2 seven 7\n",
      "3 eight 8\n",
      "1478\n"
     ]
    }
   ],
   "metadata": {}
  },
  {
   "cell_type": "code",
   "execution_count": 3,
   "source": [
    "s = \"one4seveneight\"\r\n",
    "s = s.replace('one','1')\r\n",
    "s"
   ],
   "outputs": [
    {
     "output_type": "execute_result",
     "data": {
      "text/plain": [
       "'14seveneight'"
      ]
     },
     "metadata": {},
     "execution_count": 3
    }
   ],
   "metadata": {}
  },
  {
   "cell_type": "code",
   "execution_count": null,
   "source": [],
   "outputs": [],
   "metadata": {}
  }
 ],
 "metadata": {
  "orig_nbformat": 4,
  "language_info": {
   "name": "python",
   "version": "3.9.0"
  },
  "kernelspec": {
   "name": "python3",
   "display_name": "Python 3.9.0 64-bit"
  },
  "interpreter": {
   "hash": "74c171b0dae43ebfb69efb151f805309d9847f071ceff5c363f2f696ccba9211"
  }
 },
 "nbformat": 4,
 "nbformat_minor": 2
}