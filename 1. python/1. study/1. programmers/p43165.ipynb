{
 "cells": [
  {
   "cell_type": "code",
   "execution_count": 1,
   "source": [
    "numbers, target = [1, 1, 1, 1, 1], 3\r\n",
    "\r\n",
    "from collections import deque\r\n",
    "def solution(numbers,target):\r\n",
    "    answer = 0\r\n",
    "    q = deque()\r\n",
    "    n = len(numbers)\r\n",
    "    q.append([numbers[0],0])\r\n",
    "    q.append([-numbers[0],0])\r\n",
    "    while q :\r\n",
    "        temp, idx = q.popleft()\r\n",
    "        idx += 1\r\n",
    "        if idx < n :\r\n",
    "            q.append([temp+numbers[idx], idx])\r\n",
    "            q.append([temp-numbers[idx], idx])\r\n",
    "        else :\r\n",
    "            if temp == target:\r\n",
    "                answer += 1\r\n",
    "    return answer\r\n",
    "\r\n",
    "solution(numbers,target)"
   ],
   "outputs": [
    {
     "output_type": "execute_result",
     "data": {
      "text/plain": [
       "5"
      ]
     },
     "metadata": {},
     "execution_count": 1
    }
   ],
   "metadata": {}
  },
  {
   "cell_type": "code",
   "execution_count": 3,
   "source": [
    "numbers, target = [1, 1, 1, 1, 1], 3\r\n",
    "\r\n",
    "from collections import deque\r\n",
    "def solution(numbers,target):\r\n",
    "    answer = 0\r\n",
    "    q = deque()\r\n",
    "    n = len(numbers)\r\n",
    "    q.append([0, numbers[0]])\r\n",
    "    q.append([0, -numbers[0]])\r\n",
    "    while q :\r\n",
    "        idx, tmp = q.popleft()\r\n",
    "        idx += 1\r\n",
    "        if idx < n:\r\n",
    "            q.append([idx,tmp+numbers[idx]])\r\n",
    "            q.append([idx,tmp-numbers[idx]])\r\n",
    "        elif tmp == target :\r\n",
    "            answer += 1\r\n",
    "    return answer\r\n",
    "\r\n",
    "\r\n",
    "solution(numbers,target)\r\n"
   ],
   "outputs": [
    {
     "output_type": "execute_result",
     "data": {
      "text/plain": [
       "5"
      ]
     },
     "metadata": {},
     "execution_count": 3
    }
   ],
   "metadata": {}
  },
  {
   "cell_type": "code",
   "execution_count": null,
   "source": [],
   "outputs": [],
   "metadata": {}
  }
 ],
 "metadata": {
  "orig_nbformat": 4,
  "language_info": {
   "name": "python",
   "version": "3.9.0",
   "mimetype": "text/x-python",
   "codemirror_mode": {
    "name": "ipython",
    "version": 3
   },
   "pygments_lexer": "ipython3",
   "nbconvert_exporter": "python",
   "file_extension": ".py"
  },
  "kernelspec": {
   "name": "python3",
   "display_name": "Python 3.9.0 64-bit"
  },
  "interpreter": {
   "hash": "74c171b0dae43ebfb69efb151f805309d9847f071ceff5c363f2f696ccba9211"
  }
 },
 "nbformat": 4,
 "nbformat_minor": 2
}