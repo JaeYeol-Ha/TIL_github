{
 "cells": [
  {
   "cell_type": "markdown",
   "source": [
    "# 1번 문제 : 그리디 알고리즘?"
   ],
   "metadata": {}
  },
  {
   "cell_type": "code",
   "execution_count": 2,
   "source": [
    "\r\n",
    "name_list = [\"김비바\", \"김비바\", \"이비바\", \"김토스\", \"이비바\", \"김비바\"]\r\n",
    "\r\n",
    "def solution(name_list):\r\n",
    "    name_dist = set(name_list)\r\n",
    "    for i in name_dist:\r\n",
    "        num = 65\r\n",
    "        for idx, j in enumerate(name_list):\r\n",
    "            # print(\"idx,i,j:\",idx,i,j)\r\n",
    "            if j == i:\r\n",
    "                j += str(chr(num))\r\n",
    "                name_list[idx] = j\r\n",
    "                num += 1\r\n",
    "    return name_list\r\n",
    "\r\n",
    "solution(name_list)"
   ],
   "outputs": [
    {
     "output_type": "execute_result",
     "data": {
      "text/plain": [
       "['김비바A', '김비바B', '이비바A', '김토스A', '이비바B', '김비바C']"
      ]
     },
     "metadata": {},
     "execution_count": 2
    }
   ],
   "metadata": {}
  },
  {
   "cell_type": "markdown",
   "source": [
    "# 2번 문제 : \r\n",
    "- 콜라 300초 10개\r\n",
    "- 과자 130초 20개\r\n",
    "- 맥주 120초 20개\r\n",
    "- 쌀 20초 30개\r\n",
    "\r\n",
    "쉬는시간 없이 연속으로 처묵처묵...\r\n",
    "\r\n",
    "## 10원, 7원, 3원,.... 동전문제와 비슷함"
   ],
   "metadata": {}
  },
  {
   "cell_type": "markdown",
   "source": [
    "## - 동전 문제 : 백준 2294\r\n",
    "\r\n",
    " - 다이나믹 프로그래밍"
   ],
   "metadata": {}
  },
  {
   "cell_type": "code",
   "execution_count": 4,
   "source": [
    "# n, k = input().split()\r\n",
    "# coins = sorted([input() for _ in range(n)])\r\n",
    "\r\n",
    "N, K = 3, 15\r\n",
    "coins = [1,5,12]\r\n",
    "\r\n",
    "arr = [10001] * (K+1)\r\n",
    "arr[0] = 0\r\n",
    "\r\n",
    "for i in range(N): # 동전 3번 반복\r\n",
    "    for j in range(coins[i], K+1): # 1원 동전 ~> 15원 \r\n",
    "        arr[j] = min(arr[j], arr[j-coins[i]] + 1)\r\n",
    "\r\n",
    "arr[-1] = arr[-1] if arr[-1] != 10001 else -1\r\n",
    "print(arr[-1])\r\n",
    "\r\n",
    "\r\n"
   ],
   "outputs": [
    {
     "output_type": "stream",
     "name": "stdout",
     "text": [
      "3\n"
     ]
    }
   ],
   "metadata": {}
  },
  {
   "cell_type": "code",
   "execution_count": null,
   "source": [],
   "outputs": [],
   "metadata": {}
  }
 ],
 "metadata": {
  "orig_nbformat": 4,
  "language_info": {
   "name": "python",
   "version": "3.9.0",
   "mimetype": "text/x-python",
   "codemirror_mode": {
    "name": "ipython",
    "version": 3
   },
   "pygments_lexer": "ipython3",
   "nbconvert_exporter": "python",
   "file_extension": ".py"
  },
  "kernelspec": {
   "name": "python3",
   "display_name": "Python 3.9.0 64-bit"
  },
  "interpreter": {
   "hash": "74c171b0dae43ebfb69efb151f805309d9847f071ceff5c363f2f696ccba9211"
  }
 },
 "nbformat": 4,
 "nbformat_minor": 2
}