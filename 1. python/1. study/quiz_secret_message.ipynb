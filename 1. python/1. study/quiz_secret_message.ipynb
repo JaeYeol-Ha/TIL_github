{
 "cells": [
  {
   "cell_type": "code",
   "execution_count": 13,
   "source": [
    "# 1\r\n",
    "txt = open('D:\\\\2. Programming\\\\0. TIL\\\\TIL_github\\\\1. python\\\\1. study\\\\postcard.txt').read()\r\n",
    "print(\"*** 1. Full Text *** \\n\" + txt + '\\n')\r\n",
    "\r\n",
    "# 2 \r\n",
    "head, body, tail = tuple(txt.split('\\n\\n'))\r\n",
    "print(\"*** 2. Body ***\\n\"+body+'\\n')\r\n",
    "\r\n",
    "# 3\r\n",
    "\r\n",
    "import re\r\n",
    "s = re.sub('[:,\\.]','', body)\r\n",
    "print(\"*** 3. Text without punctuation ***\\n\" + s + '\\n')\r\n",
    "\r\n",
    "# 4\r\n",
    "s = s.upper()\r\n",
    "print(\"*** 4. Uppercase ***\\n\" + s + '\\n')\r\n",
    "\r\n",
    "# 5\r\n",
    "secret_words = []\r\n",
    "for line in s.split('\\n') :\r\n",
    "    secret_words += line.split()[:2]\r\n",
    "message = ' '.join(secret_words)\r\n",
    "print(\"*** 5. Secret Message ***\\n\" + message)\r\n",
    "\r\n"
   ],
   "outputs": [
    {
     "output_type": "stream",
     "name": "stdout",
     "text": [
      "*** 1. Full Text *** \n",
      "                August 29, 1943\n",
      "Dear Iers:\n",
      "\n",
      "After surrender, health improved\n",
      "fifty percent.  Better food etc.\n",
      "Americans lost confidence\n",
      "in Philippines.  Am comfortable\n",
      "in Nippon.  Mother: Invest\n",
      "30%, salary, in business.  Love\n",
      "\n",
      "                (signed)\n",
      "                Frank G. Jonelis\n",
      "\n",
      "*** 2. Body ***\n",
      "After surrender, health improved\n",
      "fifty percent.  Better food etc.\n",
      "Americans lost confidence\n",
      "in Philippines.  Am comfortable\n",
      "in Nippon.  Mother: Invest\n",
      "30%, salary, in business.  Love\n",
      "\n",
      "*** 3. Text without punctuation ***\n",
      "After surrender health improved\n",
      "fifty percent  Better food etc\n",
      "Americans lost confidence\n",
      "in Philippines  Am comfortable\n",
      "in Nippon  Mother Invest\n",
      "30% salary in business  Love\n",
      "\n",
      "*** 4. Uppercase ***\n",
      "AFTER SURRENDER HEALTH IMPROVED\n",
      "FIFTY PERCENT  BETTER FOOD ETC\n",
      "AMERICANS LOST CONFIDENCE\n",
      "IN PHILIPPINES  AM COMFORTABLE\n",
      "IN NIPPON  MOTHER INVEST\n",
      "30% SALARY IN BUSINESS  LOVE\n",
      "\n",
      "*** 5. Secret Message ***\n",
      "AFTER*SURRENDER*FIFTY*PERCENT*AMERICANS*LOST*IN*PHILIPPINES*IN*NIPPON*30%*SALARY\n"
     ]
    }
   ],
   "metadata": {}
  },
  {
   "cell_type": "code",
   "execution_count": null,
   "source": [],
   "outputs": [],
   "metadata": {}
  }
 ],
 "metadata": {
  "orig_nbformat": 4,
  "language_info": {
   "name": "python",
   "version": "3.9.0",
   "mimetype": "text/x-python",
   "codemirror_mode": {
    "name": "ipython",
    "version": 3
   },
   "pygments_lexer": "ipython3",
   "nbconvert_exporter": "python",
   "file_extension": ".py"
  },
  "kernelspec": {
   "name": "python3",
   "display_name": "Python 3.9.0 64-bit"
  },
  "interpreter": {
   "hash": "74c171b0dae43ebfb69efb151f805309d9847f071ceff5c363f2f696ccba9211"
  }
 },
 "nbformat": 4,
 "nbformat_minor": 2
}