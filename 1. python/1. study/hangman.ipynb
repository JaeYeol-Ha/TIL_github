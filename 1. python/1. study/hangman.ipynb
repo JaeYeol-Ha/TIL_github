{
    "cells": [
        {
            "cell_type": "code",
            "execution_count": 2,
            "source": [
                "# https://www.youtube.com/watch?v=487mr-e_Z74\r\n",
                "\r\n",
                "number = 358\r\n",
                "\r\n",
                "rem = rev = 0\r\n",
                "while number >= 1:\r\n",
                "    rem = number % 10\r\n",
                "    rev = rev * 10 + rem\r\n",
                "    number = number // 10\r\n",
                "    print(\"rem:\",rem,\", rev:\",rev,\", number:\",number)\r\n",
                "\r\n",
                "print(rev)"
            ],
            "outputs": [
                {
                    "output_type": "stream",
                    "name": "stdout",
                    "text": [
                        "rem: 8 , rev: 8 , number: 35\n",
                        "rem: 5 , rev: 85 , number: 3\n",
                        "rem: 3 , rev: 853 , number: 0\n",
                        "853\n"
                    ]
                }
            ],
            "metadata": {}
        },
        {
            "cell_type": "code",
            "execution_count": null,
            "source": [],
            "outputs": [],
            "metadata": {}
        }
    ],
    "metadata": {
        "orig_nbformat": 4,
        "language_info": {
            "name": "python",
            "version": "3.9.0",
            "mimetype": "text/x-python",
            "codemirror_mode": {
                "name": "ipython",
                "version": 3
            },
            "pygments_lexer": "ipython3",
            "nbconvert_exporter": "python",
            "file_extension": ".py"
        },
        "kernelspec": {
            "name": "python3",
            "display_name": "Python 3.9.0 64-bit"
        },
        "interpreter": {
            "hash": "74c171b0dae43ebfb69efb151f805309d9847f071ceff5c363f2f696ccba9211"
        }
    },
    "nbformat": 4,
    "nbformat_minor": 2
}