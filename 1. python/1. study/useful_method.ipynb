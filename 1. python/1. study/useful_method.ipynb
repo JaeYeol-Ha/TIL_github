{
    "cells": [
        {
            "cell_type": "markdown",
            "source": [
                "# 문제풀이 유용한 명령어들"
            ],
            "metadata": {}
        },
        {
            "cell_type": "code",
            "execution_count": 3,
            "source": [
                "round(1.2345, 2) # 1.23"
            ],
            "outputs": [
                {
                    "output_type": "execute_result",
                    "data": {
                        "text/plain": [
                            "1.23"
                        ]
                    },
                    "metadata": {},
                    "execution_count": 3
                }
            ],
            "metadata": {}
        },
        {
            "cell_type": "code",
            "execution_count": 4,
            "source": [
                "'0 100'.split() # ['0', '100']"
            ],
            "outputs": [
                {
                    "output_type": "execute_result",
                    "data": {
                        "text/plain": [
                            "['0', '100']"
                        ]
                    },
                    "metadata": {},
                    "execution_count": 4
                }
            ],
            "metadata": {}
        },
        {
            "cell_type": "code",
            "execution_count": 7,
            "source": [
                "freezing_point, boiling_point = '0 100'.split()\r\n",
                "print(freezing_point,boiling_point)"
            ],
            "outputs": [
                {
                    "output_type": "stream",
                    "name": "stdout",
                    "text": [
                        "0 100\n"
                    ]
                }
            ],
            "metadata": {}
        },
        {
            "cell_type": "code",
            "execution_count": 8,
            "source": [
                "m = 2\r\n",
                "for n in range(1, 10):\r\n",
                "    print(f'{m} * {n} = {m*n:2d}')"
            ],
            "outputs": [
                {
                    "output_type": "stream",
                    "name": "stdout",
                    "text": [
                        "2 * 1 =  2\n",
                        "2 * 2 =  4\n",
                        "2 * 3 =  6\n",
                        "2 * 4 =  8\n",
                        "2 * 5 = 10\n",
                        "2 * 6 = 12\n",
                        "2 * 7 = 14\n",
                        "2 * 8 = 16\n",
                        "2 * 9 = 18\n"
                    ]
                }
            ],
            "metadata": {}
        },
        {
            "cell_type": "code",
            "execution_count": null,
            "source": [],
            "outputs": [],
            "metadata": {}
        }
    ],
    "metadata": {
        "orig_nbformat": 4,
        "language_info": {
            "name": "python",
            "version": "3.9.0",
            "mimetype": "text/x-python",
            "codemirror_mode": {
                "name": "ipython",
                "version": 3
            },
            "pygments_lexer": "ipython3",
            "nbconvert_exporter": "python",
            "file_extension": ".py"
        },
        "kernelspec": {
            "name": "python3",
            "display_name": "Python 3.9.0 64-bit"
        },
        "interpreter": {
            "hash": "74c171b0dae43ebfb69efb151f805309d9847f071ceff5c363f2f696ccba9211"
        }
    },
    "nbformat": 4,
    "nbformat_minor": 2
}