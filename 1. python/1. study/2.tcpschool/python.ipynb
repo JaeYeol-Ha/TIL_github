{
 "cells": [
  {
   "cell_type": "code",
   "execution_count": 11,
   "metadata": {},
   "outputs": [
    {
     "name": "stdout",
     "output_type": "stream",
     "text": [
      "야생의 콩이(가) '멍멍!' 하고 짖는다.\n",
      "콩(이)가 손을 준다!\n",
      "콩이(가) 애교를 부린다!\n",
      "콩이(가)'스터디가기싫어'를 읽었다!\n",
      "야생의 콩이(가) '우어어으엉!' 하고 짖는다.\n"
     ]
    }
   ],
   "source": [
    "# 클래스 활용해보기\n",
    "class Dog:\n",
    "    def __init__(self, name):\n",
    "        self.name = name\n",
    "\n",
    "    def bark(self):\n",
    "        print(\"야생의 \"+self.name + \"이(가) '멍멍!' 하고 짖는다.\")\n",
    "    \n",
    "    def hand(self):\n",
    "        print(self.name+\"(이)가 손을 준다!\")\n",
    "    \n",
    "    def charm(self):\n",
    "        print(self.name+\"이(가) 애교를 부린다!\")\n",
    "\n",
    "    def read_and_write(self, read):\n",
    "        print(self.name + \"이(가)'\" + read + \"'를 읽었다!\")\n",
    "\n",
    "# Dog 상속\n",
    "class maltese(Dog):\n",
    "    def bark(self):\n",
    "        print(\"야생의 \"+self.name + \"이(가) '우어어으엉!' 하고 짖는다.\")\n",
    "\n",
    "my_dog = Dog(\"콩\")\n",
    "my_dog.bark()\n",
    "my_dog.hand()\n",
    "my_dog.charm()\n",
    "my_dog.read_and_write(\"스터디가기싫어\")\n",
    "\n",
    "my_dog = maltese(\"콩\")\n",
    "my_dog.bark()"
   ]
  },
  {
   "cell_type": "code",
   "execution_count": 14,
   "metadata": {},
   "outputs": [
    {
     "name": "stdout",
     "output_type": "stream",
     "text": [
      "1번째 라인입니다.\n",
      "2번째 라인입니다.\n",
      "3번째 라인입니다.\n",
      "마지막 라인입니다.\n",
      "\n",
      "[]\n"
     ]
    }
   ],
   "source": [
    "# 파일 입출력\n",
    "파일명 = \"test.txt\"\n",
    "파일모드문자열 = \"rt\"\n",
    "파일객체 = open(파일명, 파일모드문자열, encoding= \"utf-8\")\n",
    "# 셋 중 선택\n",
    "print(파일객체.read())\n",
    "print(파일객체.readline())\n",
    "print(파일객체.readlines())\n",
    "파일객체.close()"
   ]
  },
  {
   "cell_type": "code",
   "execution_count": 17,
   "metadata": {},
   "outputs": [
    {
     "name": "stdout",
     "output_type": "stream",
     "text": [
      "1번째 라인입니다.\n",
      "2번째 라인입니다.\n",
      "3번째 라인입니다.\n",
      "마지막 라인입니다.\n"
     ]
    }
   ],
   "source": [
    "# 파일 close 없이 사용하기(가독성 증가!)\n",
    "with open(파일명, 파일모드문자열, encoding= \"utf-8\") as 파일객체:\n",
    "    print(파일객체.read())"
   ]
  }
 ],
 "metadata": {
  "interpreter": {
   "hash": "25a8fbfd5ed7c8fce88f3230b90d36099e80f830c2e8be463c0091b2b333101e"
  },
  "kernelspec": {
   "display_name": "Python 3.10.4 64-bit",
   "language": "python",
   "name": "python3"
  },
  "language_info": {
   "codemirror_mode": {
    "name": "ipython",
    "version": 3
   },
   "file_extension": ".py",
   "mimetype": "text/x-python",
   "name": "python",
   "nbconvert_exporter": "python",
   "pygments_lexer": "ipython3",
   "version": "3.10.4"
  },
  "orig_nbformat": 4
 },
 "nbformat": 4,
 "nbformat_minor": 2
}
