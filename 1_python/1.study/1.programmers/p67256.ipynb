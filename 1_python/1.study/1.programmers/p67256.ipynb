{
 "cells": [
  {
   "cell_type": "code",
   "execution_count": null,
   "metadata": {},
   "outputs": [],
   "source": [
    "n,\tcomputers,\tanswer = 3,\t[[1, 1, 0], [1, 1, 0], [0, 0, 1]],\t2\n",
    "\n",
    "from collections import deque\n",
    "\n",
    "def solution(n, computers):\n",
    "    answer = 0\n",
    "    visited = [False for i in range(n)]\n",
    "    for com in range(n):\n",
    "        if visited[com]  ==False:\n",
    "            DFS(n,computers,com,visited)\n",
    "            answer += 1\n",
    "    return answer\n",
    "\n",
    "def DFS(n, computers, com, visited):\n",
    "    visited[com] = True\n",
    "    for connect in range(n):\n",
    "        if connect != com and computers[com][connect] == 1:\n",
    "            if visited[connect] == False:\n",
    "                DFS(n,computers,connect,visited)\n",
    "                \n",
    "solution(n,computers)"
   ]
  }
 ],
 "metadata": {
  "interpreter": {
   "hash": "74c171b0dae43ebfb69efb151f805309d9847f071ceff5c363f2f696ccba9211"
  },
  "kernelspec": {
   "display_name": "Python 3.9.0 64-bit",
   "name": "python3"
  },
  "language_info": {
   "codemirror_mode": {
    "name": "ipython",
    "version": 3
   },
   "file_extension": ".py",
   "mimetype": "text/x-python",
   "name": "python",
   "nbconvert_exporter": "python",
   "pygments_lexer": "ipython3",
   "version": "3.9.0"
  },
  "orig_nbformat": 4
 },
 "nbformat": 4,
 "nbformat_minor": 2
}
