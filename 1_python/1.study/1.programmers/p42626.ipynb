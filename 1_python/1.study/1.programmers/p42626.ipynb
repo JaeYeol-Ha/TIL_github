{
 "cells": [
  {
   "cell_type": "code",
   "execution_count": 1,
   "source": [
    "scoville = [1, 2, 3, 9, 10, 12]\r\n",
    "K = 7\r\n",
    "\r\n",
    "import heapq\r\n",
    "h = heapq\r\n",
    "\r\n",
    "first = h.heappop(scoville)\r\n",
    "second = h.heappop(scoville)\r\n",
    "\r\n"
   ],
   "outputs": [
    {
     "output_type": "execute_result",
     "data": {
      "text/plain": [
       "[1, 2, 3, 9, 10, 12]"
      ]
     },
     "metadata": {},
     "execution_count": 1
    }
   ],
   "metadata": {}
  },
  {
   "cell_type": "code",
   "execution_count": null,
   "source": [
    "scoville = [1, 2, 3, 9, 10, 12]\r\n",
    "K = 7\r\n",
    "\r\n",
    "\r\n",
    "def solution():\r\n",
    "    mix_times = 0\r\n",
    "    scoville.sort()\r\n",
    "    while(scoville[0] < K):\r\n",
    "        if scoville.count() <= 1 :\r\n",
    "            return -1\r\n",
    "        first = scoville.pop()\r\n",
    "        second = scoville.pop()\r\n",
    "\r\n",
    "        scoville.append(first + 2*second)\r\n",
    "        scoville.sort()\r\n",
    "        mix_times +=1\r\n",
    "    return mix_tiems\r\n",
    "\r\n"
   ],
   "outputs": [],
   "metadata": {}
  }
 ],
 "metadata": {
  "orig_nbformat": 4,
  "language_info": {
   "name": "python",
   "version": "3.9.0",
   "mimetype": "text/x-python",
   "codemirror_mode": {
    "name": "ipython",
    "version": 3
   },
   "pygments_lexer": "ipython3",
   "nbconvert_exporter": "python",
   "file_extension": ".py"
  },
  "kernelspec": {
   "name": "python3",
   "display_name": "Python 3.9.0 64-bit"
  },
  "interpreter": {
   "hash": "74c171b0dae43ebfb69efb151f805309d9847f071ceff5c363f2f696ccba9211"
  }
 },
 "nbformat": 4,
 "nbformat_minor": 2
}